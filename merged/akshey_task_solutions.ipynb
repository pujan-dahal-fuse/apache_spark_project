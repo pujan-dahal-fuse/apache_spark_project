{
 "cells": [
  {
   "cell_type": "code",
   "execution_count": 50,
   "metadata": {
    "colab": {
     "base_uri": "https://localhost:8080/"
    },
    "id": "G91q_GbRx2UL",
    "outputId": "53fc3675-9c8c-4cdf-d2fa-3379914428cd"
   },
   "outputs": [
    {
     "name": "stdout",
     "output_type": "stream",
     "text": [
      "Looking in indexes: https://pypi.org/simple, https://us-python.pkg.dev/colab-wheels/public/simple/\n",
      "Requirement already satisfied: pyspark in /usr/local/lib/python3.7/dist-packages (3.3.1)\n",
      "Requirement already satisfied: py4j==0.10.9.5 in /usr/local/lib/python3.7/dist-packages (from pyspark) (0.10.9.5)\n"
     ]
    }
   ],
   "source": [
    "pip install pyspark"
   ]
  },
  {
   "cell_type": "code",
   "execution_count": 51,
   "metadata": {
    "id": "pFJG3wvl7xZM"
   },
   "outputs": [],
   "source": [
    "from pyspark.sql import SparkSession\n",
    "\n",
    "spark = SparkSession.builder.appName('Historical weather').getOrCreate()\n"
   ]
  },
  {
   "cell_type": "code",
   "execution_count": 52,
   "metadata": {
    "id": "GSfHNvuxWalV"
   },
   "outputs": [],
   "source": [
    "from pyspark.sql.functions import *\n",
    "from pyspark.sql.window import Window"
   ]
  },
  {
   "cell_type": "markdown",
   "metadata": {
    "id": "K_sD-KvV_v49"
   },
   "source": [
    "###Datasets"
   ]
  },
  {
   "cell_type": "code",
   "execution_count": 161,
   "metadata": {
    "colab": {
     "base_uri": "https://localhost:8080/"
    },
    "id": "bnsdVyzu9RbO",
    "outputId": "c4ada7cb-7ccd-475a-8efa-519b66771529"
   },
   "outputs": [
    {
     "name": "stdout",
     "output_type": "stream",
     "text": [
      "root\n",
      " |-- date: timestamp (nullable = true)\n",
      " |-- country: string (nullable = true)\n",
      " |-- city: string (nullable = true)\n",
      " |-- Latitude: double (nullable = true)\n",
      " |-- Longitude: double (nullable = true)\n",
      " |-- tavg: double (nullable = true)\n",
      " |-- tmin: double (nullable = true)\n",
      " |-- tmax: double (nullable = true)\n",
      " |-- wspd: double (nullable = true)\n",
      " |-- pres: double (nullable = true)\n",
      "\n",
      "+-------------------+--------+-------+---------+---------+----+----+----+----+------+\n",
      "|               date| country|   city| Latitude|Longitude|tavg|tmin|tmax|wspd|  pres|\n",
      "+-------------------+--------+-------+---------+---------+----+----+----+----+------+\n",
      "|2018-07-21 00:00:00|Abkhazia|Sukhumi|43.001525|41.023415|23.4|20.9|25.5| 9.3|1009.6|\n",
      "|2018-07-22 00:00:00|Abkhazia|Sukhumi|43.001525|41.023415|23.5|21.0|25.7| 9.4|1010.0|\n",
      "|2018-07-23 00:00:00|Abkhazia|Sukhumi|43.001525|41.023415|23.5|21.1|25.5| 8.2|1007.7|\n",
      "|2018-07-24 00:00:00|Abkhazia|Sukhumi|43.001525|41.023415|24.3|20.8|27.1| 9.3|1004.4|\n",
      "|2018-07-25 00:00:00|Abkhazia|Sukhumi|43.001525|41.023415|26.5|22.7|30.0| 9.7|1002.0|\n",
      "+-------------------+--------+-------+---------+---------+----+----+----+----+------+\n",
      "only showing top 5 rows\n",
      "\n"
     ]
    }
   ],
   "source": [
    "weather_df = spark.read.option('inferSchema', 'true').option('header', 'true').csv('sample_data/cleaned_weather_data.csv')\n",
    "weather_df.printSchema()\n",
    "weather_df.show(5)"
   ]
  },
  {
   "cell_type": "code",
   "execution_count": 54,
   "metadata": {
    "colab": {
     "base_uri": "https://localhost:8080/"
    },
    "id": "hjUsP-es-G4v",
    "outputId": "49f09a4d-74c7-4794-c24e-d7a8090c052b"
   },
   "outputs": [
    {
     "name": "stdout",
     "output_type": "stream",
     "text": [
      "root\n",
      " |-- country: string (nullable = true)\n",
      " |-- continent: string (nullable = true)\n",
      "\n",
      "+--------------+---------+\n",
      "|       country|continent|\n",
      "+--------------+---------+\n",
      "|   Afghanistan|     Asia|\n",
      "| �land Islands|   Europe|\n",
      "|       Albania|   Europe|\n",
      "|       Algeria|   Africa|\n",
      "|American Samoa|  Oceania|\n",
      "+--------------+---------+\n",
      "only showing top 5 rows\n",
      "\n"
     ]
    }
   ],
   "source": [
    "country_cont_df= spark.read.option('inferSchema', 'true').option('header', 'true').csv('sample_data/cleaned_country_continent.csv')\n",
    "country_cont_df.printSchema()\n",
    "country_cont_df.show(5)"
   ]
  },
  {
   "cell_type": "markdown",
   "metadata": {
    "id": "l8pnCGGs_X4W"
   },
   "source": [
    "###Tasks\n",
    "1. Correlation between wind speed and average temperature\n",
    "2. Standard deviation for average temperature for each country in the month of May each year, and find the country with lowest standard deviation.\n",
    "3. Max temperature that each country has ever had\n",
    "4. Top 5 hottest days in all Japan.\n",
    "5. Difference of each country’s average temperature from global average temperature for 2020. (Window Function)\n",
    "6. Rolling average of wind speed in Japan for the month of May 2021 (Window Function)\n",
    "7. Find hottest and coldest day of Japan for each month in 2021\n",
    "8. Find 3 windiest days of Canada for each month  in 2020\n",
    "9. Lowest wind speed for each continent (join) and the country, date on which it was recorded.\n"
   ]
  },
  {
   "cell_type": "markdown",
   "metadata": {
    "id": "pmTKbZfqV9Sz"
   },
   "source": [
    "1. Correlation between wind speed and average temperature"
   ]
  },
  {
   "cell_type": "code",
   "execution_count": 55,
   "metadata": {
    "colab": {
     "base_uri": "https://localhost:8080/"
    },
    "id": "DDKmnbQYWDln",
    "outputId": "582006ec-6d0e-4031-c60f-6178e0bbcae2"
   },
   "outputs": [
    {
     "data": {
      "text/plain": [
       "-0.07108432573608632"
      ]
     },
     "execution_count": 55,
     "metadata": {},
     "output_type": "execute_result"
    }
   ],
   "source": [
    "weather_df.stat.corr('tavg','wspd')"
   ]
  },
  {
   "cell_type": "markdown",
   "metadata": {
    "id": "8qFa_P-NYby3"
   },
   "source": [
    "wind speed and avg temp seems to have negative correlation.\n",
    "Insight: Difference in temperature drives wind speed."
   ]
  },
  {
   "cell_type": "markdown",
   "metadata": {
    "id": "DvbSsixJW3ZI"
   },
   "source": [
    "2. Standard deviation for average temperature for each country in the month of May each year, and find the country with lowest standard deviation."
   ]
  },
  {
   "cell_type": "code",
   "execution_count": 173,
   "metadata": {
    "colab": {
     "base_uri": "https://localhost:8080/"
    },
    "id": "y-B9h5TWW7Sd",
    "outputId": "67b0ada2-7dc4-41f7-a9c8-1a50b6ef6ca8"
   },
   "outputs": [
    {
     "name": "stdout",
     "output_type": "stream",
     "text": [
      "+----+-----+--------------+--------+\n",
      "|year|month|       country|avg_temp|\n",
      "+----+-----+--------------+--------+\n",
      "|2019|    5|      Abkhazia|    12.0|\n",
      "|2020|    5|      Abkhazia|    11.5|\n",
      "|2021|    5|      Abkhazia|    11.1|\n",
      "|2022|    5|      Abkhazia|    11.5|\n",
      "|2018|    5| Aland Islands|     6.2|\n",
      "|2019|    5| Aland Islands|     1.4|\n",
      "|2020|    5| Aland Islands|     3.5|\n",
      "|2021|    5| Aland Islands|     2.4|\n",
      "|2022|    5| Aland Islands|     3.7|\n",
      "|2018|    5|       Albania|    17.2|\n",
      "|2019|    5|       Albania|    13.3|\n",
      "|2020|    5|       Albania|    15.2|\n",
      "|2021|    5|       Albania|    15.7|\n",
      "|2022|    5|       Albania|    14.7|\n",
      "|2018|    5|       Algeria|    14.6|\n",
      "|2019|    5|       Algeria|    16.3|\n",
      "|2020|    5|       Algeria|    19.0|\n",
      "|2021|    5|       Algeria|    17.3|\n",
      "|2022|    5|       Algeria|    15.4|\n",
      "|2018|    5|American Samoa|    25.3|\n",
      "+----+-----+--------------+--------+\n",
      "only showing top 20 rows\n",
      "\n",
      "+--------------------+-------------------+\n",
      "|             country|stddev_avg_temp_may|\n",
      "+--------------------+-------------------+\n",
      "|               Spain|               null|\n",
      "|      Cayman Islands|                0.1|\n",
      "|               Aruba|                0.2|\n",
      "|            Suriname|                0.2|\n",
      "|    Papua New Guinea|                0.2|\n",
      "|              Panama|                0.3|\n",
      "|              Guyana|                0.3|\n",
      "|    Marshall Islands|                0.3|\n",
      "|          Montserrat|                0.3|\n",
      "|          Mauritania|                0.3|\n",
      "|Cocos (Keeling) I...|                0.3|\n",
      "|           Mauritius|                0.3|\n",
      "|    French Polynesia|                0.3|\n",
      "|     Solomon Islands|                0.4|\n",
      "|          Micronesia|                0.4|\n",
      "|            Abkhazia|                0.4|\n",
      "|               Nauru|                0.4|\n",
      "|               Gabon|                0.4|\n",
      "|          Seychelles|                0.4|\n",
      "|Netherlands Antilles|                0.4|\n",
      "+--------------------+-------------------+\n",
      "only showing top 20 rows\n",
      "\n"
     ]
    }
   ],
   "source": [
    "avg_temp_may_df = weather_df\\\n",
    "                    .groupBy(year('date').alias('year'),month('date').alias('month'), 'country')\\\n",
    "                    .agg(min('tavg').alias('avg_temp'))\\\n",
    "                    .filter('month == 5')\\\n",
    "                    .orderBy('country', 'year')\n",
    "avg_temp_may_df.show()\n",
    "stddev_avg_temp_may_df = avg_temp_may_df\\\n",
    "                            .groupBy('country')\\\n",
    "                            .agg(stddev('avg_temp').alias('stddev'))\\\n",
    "                            .orderBy(asc('stddev'))\\\n",
    "                            .select('country',round('stddev', 1).alias('stddev_avg_temp_may')).show()"
   ]
  },
  {
   "cell_type": "markdown",
   "metadata": {
    "id": "Hc8EQWc_j19L"
   },
   "source": [
    "3. Max temperature that each country has ever had"
   ]
  },
  {
   "cell_type": "code",
   "execution_count": 83,
   "metadata": {
    "colab": {
     "base_uri": "https://localhost:8080/"
    },
    "id": "DGaNqf_yjywF",
    "outputId": "2dd7453c-43ee-4820-e313-c781535b68e5"
   },
   "outputs": [
    {
     "name": "stdout",
     "output_type": "stream",
     "text": [
      "+----+-------------+--------+\n",
      "|year|      country|max_temp|\n",
      "+----+-------------+--------+\n",
      "|2018|     Abkhazia|    30.0|\n",
      "|2019|     Abkhazia|    30.0|\n",
      "|2020|     Abkhazia|    31.8|\n",
      "|2021|     Abkhazia|    31.0|\n",
      "|2022|     Abkhazia|    29.7|\n",
      "|2018|Aland Islands|    30.3|\n",
      "|2019|Aland Islands|    30.1|\n",
      "|2020|Aland Islands|    27.6|\n",
      "|2021|Aland Islands|    28.1|\n",
      "|2022|Aland Islands|    26.5|\n",
      "|2018|      Albania|    36.4|\n",
      "|2019|      Albania|    38.6|\n",
      "|2020|      Albania|    37.7|\n",
      "|2021|      Albania|    42.1|\n",
      "|2022|      Albania|    38.5|\n",
      "|2018|      Algeria|    36.4|\n",
      "|2019|      Algeria|    41.7|\n",
      "|2020|      Algeria|    39.7|\n",
      "|2021|      Algeria|    43.3|\n",
      "|2022|      Algeria|    41.3|\n",
      "+----+-------------+--------+\n",
      "only showing top 20 rows\n",
      "\n",
      "+-------------------+-------+\n",
      "|            country|maxtemp|\n",
      "+-------------------+-------+\n",
      "|           Abkhazia|   31.8|\n",
      "|      Aland Islands|   30.3|\n",
      "|            Albania|   42.1|\n",
      "|            Algeria|   43.3|\n",
      "|     American Samoa|   34.1|\n",
      "|             Angola|   39.0|\n",
      "|           Anguilla|   89.6|\n",
      "|Antigua and Barbuda|   32.6|\n",
      "|          Argentina|   37.1|\n",
      "|              Aruba|   40.7|\n",
      "|            Austria|   37.6|\n",
      "|         Azerbaijan|   41.5|\n",
      "|            Bahamas|   34.8|\n",
      "|            Bahrain|   46.2|\n",
      "|         Bangladesh|   37.6|\n",
      "|           Barbados|   32.9|\n",
      "|            Belarus|   36.0|\n",
      "|            Belgium|   39.9|\n",
      "|            Bermuda|   32.0|\n",
      "|      Bouvet Island|    6.1|\n",
      "+-------------------+-------+\n",
      "only showing top 20 rows\n",
      "\n"
     ]
    }
   ],
   "source": [
    "max_temp_country_everyyeardf = weather_df\\\n",
    "                    .groupBy(year('date').alias('year'), 'country')\\\n",
    "                    .agg(max('tmax').alias('max_temp')).orderBy('country', 'year')\n",
    "max_temp_country_everyyeardf.show()\n",
    "max_temp_country_everhaddf = max_temp_country_everyyeardf\\\n",
    "                            .groupBy('country')\\\n",
    "                            .agg(max('max_temp').alias('maxtemp'))\\\n",
    "                            .orderBy('country')\\\n",
    "                            .select('country','maxtemp').show(20)"
   ]
  },
  {
   "cell_type": "markdown",
   "metadata": {
    "id": "zmJOZxBoAjIU"
   },
   "source": [
    "4. Top 5 hottest days in all Japan."
   ]
  },
  {
   "cell_type": "code",
   "execution_count": 157,
   "metadata": {
    "colab": {
     "base_uri": "https://localhost:8080/"
    },
    "id": "-sw11dzvAipF",
    "outputId": "93545707-4dd1-4150-c25e-aee9485e3083"
   },
   "outputs": [
    {
     "name": "stdout",
     "output_type": "stream",
     "text": [
      "+-------------------+-------+-----+---------+----------+----+----+----+----+------+\n",
      "|               date|country| city| Latitude| Longitude|tavg|tmin|tmax|wspd|  pres|\n",
      "+-------------------+-------+-----+---------+----------+----+----+----+----+------+\n",
      "|2018-07-23 00:00:00|  Japan|Tokyo|35.709026|139.731992|30.8|28.2|38.6|10.0|1005.4|\n",
      "|2018-08-02 00:00:00|  Japan|Tokyo|35.709026|139.731992|30.9|26.3|36.9| 9.1|1004.6|\n",
      "|2022-07-01 00:00:00|  Japan|Tokyo|35.709026|139.731992|29.9|25.0|36.6| 9.1|1014.3|\n",
      "|2021-08-10 00:00:00|  Japan|Tokyo|35.709026|139.731992|30.6|27.2|36.3|17.7| 998.4|\n",
      "|2020-08-11 00:00:00|  Japan|Tokyo|35.709026|139.731992|31.5|26.6|36.2|14.8|1012.4|\n",
      "+-------------------+-------+-----+---------+----------+----+----+----+----+------+\n",
      "only showing top 5 rows\n",
      "\n"
     ]
    }
   ],
   "source": [
    "japan_weather_df=weather_df.orderBy(desc('tmax'))\n",
    "japan_weather_df=japan_weather_df.filter(japan_weather_df.country=='Japan').show(5)"
   ]
  },
  {
   "cell_type": "markdown",
   "metadata": {
    "id": "5TnGU9NIyqCW"
   },
   "source": [
    "5. Difference of each country’s average temperature from global average temperature for 2020. (Window Function)"
   ]
  },
  {
   "cell_type": "code",
   "execution_count": 138,
   "metadata": {
    "colab": {
     "base_uri": "https://localhost:8080/"
    },
    "id": "cbQuW8PozCT3",
    "outputId": "7caf4cc6-9acb-46bb-bfe8-64455766f4b1"
   },
   "outputs": [
    {
     "name": "stdout",
     "output_type": "stream",
     "text": [
      "+-------------------+--------------------+\n",
      "|            country|            avg_temp|\n",
      "+-------------------+--------------------+\n",
      "|           Abkhazia|  14.867759562841526|\n",
      "|      Aland Islands|   8.174520547945201|\n",
      "|            Albania|   16.16931506849313|\n",
      "|            Algeria|  19.920491803278694|\n",
      "|     American Samoa|  27.312295081967196|\n",
      "|             Angola|  25.862295081967194|\n",
      "|           Anguilla|  27.498907103825157|\n",
      "|Antigua and Barbuda|  27.105737704918013|\n",
      "|          Argentina|   17.58907103825134|\n",
      "|              Aruba|  28.104918032786887|\n",
      "|            Austria|  13.514520547945196|\n",
      "|         Azerbaijan|  15.233606557377055|\n",
      "|            Bahamas|  25.731232876712333|\n",
      "|            Bahrain|   27.74262295081968|\n",
      "|         Bangladesh|  26.095081967213133|\n",
      "|           Barbados|   27.46803278688526|\n",
      "|            Belarus|   9.581693989071045|\n",
      "|            Belgium|   12.37780821917809|\n",
      "|            Bermuda|  22.143287671232873|\n",
      "|      Bouvet Island|-0.27942238267148034|\n",
      "+-------------------+--------------------+\n",
      "only showing top 20 rows\n",
      "\n",
      "+----+-------------------+--------------------+------------------+-------------------+\n",
      "|year|            country|            avg_temp|   global_avg_temp|         difference|\n",
      "+----+-------------------+--------------------+------------------+-------------------+\n",
      "|2020|           Abkhazia|  14.867759562841526|20.933564733888883| -6.065805171047357|\n",
      "|2020|      Aland Islands|   8.174520547945201|20.933564733888883|-12.759044185943681|\n",
      "|2020|            Albania|   16.16931506849313|20.933564733888883| -4.764249665395752|\n",
      "|2020|            Algeria|  19.920491803278694|20.933564733888883| -1.013072930610189|\n",
      "|2020|     American Samoa|  27.312295081967196|20.933564733888883|  6.378730348078314|\n",
      "|2020|             Angola|  25.862295081967194|20.933564733888883|  4.928730348078311|\n",
      "|2020|           Anguilla|  27.498907103825157|20.933564733888883|  6.565342369936275|\n",
      "|2020|Antigua and Barbuda|  27.105737704918013|20.933564733888883|  6.172172971029131|\n",
      "|2020|          Argentina|   17.58907103825134|20.933564733888883| -3.344493695637542|\n",
      "|2020|              Aruba|  28.104918032786887|20.933564733888883|  7.171353298898005|\n",
      "|2020|            Austria|  13.514520547945196|20.933564733888883| -7.419044185943687|\n",
      "|2020|         Azerbaijan|  15.233606557377055|20.933564733888883| -5.699958176511828|\n",
      "|2020|            Bahamas|  25.731232876712333|20.933564733888883|  4.797668142823451|\n",
      "|2020|            Bahrain|   27.74262295081968|20.933564733888883|  6.809058216930797|\n",
      "|2020|         Bangladesh|  26.095081967213133|20.933564733888883| 5.1615172333242505|\n",
      "|2020|           Barbados|   27.46803278688526|20.933564733888883| 6.5344680529963775|\n",
      "|2020|            Belarus|   9.581693989071045|20.933564733888883|-11.351870744817838|\n",
      "|2020|            Belgium|   12.37780821917809|20.933564733888883| -8.555756514710792|\n",
      "|2020|            Bermuda|  22.143287671232873|20.933564733888883| 1.2097229373439902|\n",
      "|2020|      Bouvet Island|-0.27942238267148034|20.933564733888883|-21.212987116560363|\n",
      "+----+-------------------+--------------------+------------------+-------------------+\n",
      "only showing top 20 rows\n",
      "\n"
     ]
    }
   ],
   "source": [
    "avg_temp_df = weather_df\\\n",
    "                .filter(year('date') == 2020)\\\n",
    "                .groupBy('country')\\\n",
    "                .agg(mean('tavg').alias('avg_temp'))\\\n",
    "                .orderBy('country')\n",
    "\n",
    "avg_temp_df.show()\n",
    "\n",
    "global_avg_temp = (weather_df.select(mean('tavg')).collect()[0][0])\n",
    "global_avg_temp\n",
    "\n",
    "diff_global_avg_temp_df = avg_temp_df\\\n",
    "                            .withColumn('year', lit(2020))\\\n",
    "                            .withColumn('global_avg_temp', lit(global_avg_temp))\\\n",
    "                            .withColumn('difference', (col('avg_temp') - col('global_avg_temp')))\n",
    "\n",
    "diff_global_avg_temp_df = diff_global_avg_temp_df.select('year', 'country', 'avg_temp', 'global_avg_temp', 'difference')\n",
    "\n",
    "diff_global_avg_temp_df.show()\n"
   ]
  },
  {
   "cell_type": "markdown",
   "metadata": {
    "id": "DNjAawvyzwiU"
   },
   "source": [
    "6. Rolling average of wind speed in Japan for the month of May 2021 (Window Function)\n"
   ]
  },
  {
   "cell_type": "code",
   "execution_count": 174,
   "metadata": {
    "colab": {
     "base_uri": "https://localhost:8080/"
    },
    "id": "acCo01pszwSs",
    "outputId": "042beefd-d4aa-4685-a556-29e80b424fe5"
   },
   "outputs": [
    {
     "name": "stdout",
     "output_type": "stream",
     "text": [
      "+-------------------+-------+----+-----------+\n",
      "|               date|country|wspd|rolling_avg|\n",
      "+-------------------+-------+----+-----------+\n",
      "|2021-05-01 00:00:00|  Japan|13.9|       13.9|\n",
      "|2021-05-02 00:00:00|  Japan|14.3|       14.1|\n",
      "|2021-05-03 00:00:00|  Japan|13.3|       13.8|\n",
      "|2021-05-04 00:00:00|  Japan| 9.7|       12.8|\n",
      "|2021-05-05 00:00:00|  Japan|18.7|       14.0|\n",
      "|2021-05-06 00:00:00|  Japan| 9.9|       13.3|\n",
      "|2021-05-07 00:00:00|  Japan| 6.1|       12.3|\n",
      "|2021-05-08 00:00:00|  Japan|10.0|       12.0|\n",
      "|2021-05-09 00:00:00|  Japan|15.4|       12.4|\n",
      "|2021-05-10 00:00:00|  Japan|11.6|       12.3|\n",
      "|2021-05-11 00:00:00|  Japan| 8.6|       12.0|\n",
      "|2021-05-12 00:00:00|  Japan|10.9|       11.9|\n",
      "|2021-05-13 00:00:00|  Japan| 7.1|       11.5|\n",
      "|2021-05-14 00:00:00|  Japan| 9.4|       11.4|\n",
      "|2021-05-15 00:00:00|  Japan|13.5|       11.5|\n",
      "|2021-05-16 00:00:00|  Japan|12.8|       11.6|\n",
      "|2021-05-17 00:00:00|  Japan|22.0|       12.2|\n",
      "|2021-05-18 00:00:00|  Japan| 8.9|       12.0|\n",
      "|2021-05-19 00:00:00|  Japan| 5.7|       11.7|\n",
      "|2021-05-20 00:00:00|  Japan| 5.8|       11.4|\n",
      "+-------------------+-------+----+-----------+\n",
      "only showing top 20 rows\n",
      "\n"
     ]
    }
   ],
   "source": [
    "window_spec = Window.partitionBy('country').orderBy('date').rowsBetween(Window.unboundedPreceding, Window.currentRow)\n",
    "\n",
    "japan_may_2021_df = weather_df\\\n",
    "                        .filter(year('date') == 2021)\\\n",
    "                        .filter(month('date') ==5 )\\\n",
    "                        .filter('country == \"Japan\"')\\\n",
    "                        .withColumn('rolling_avg', mean('wspd').over(window_spec))\\\n",
    "                        .select('date', 'country', 'wspd', round('rolling_avg', 1).alias('rolling_avg'))\n",
    "\n",
    "japan_may_2021_df.show()\n"
   ]
  },
  {
   "cell_type": "markdown",
   "metadata": {
    "id": "AptIuMmz6cfS"
   },
   "source": [
    "7. Find hottest and coldest day of Japan for each month in 2021"
   ]
  },
  {
   "cell_type": "code",
   "execution_count": 58,
   "metadata": {
    "colab": {
     "base_uri": "https://localhost:8080/"
    },
    "id": "JEp-ZESJ52Gz",
    "outputId": "e599a0fa-5ef2-4666-bb5e-1b25111a946d"
   },
   "outputs": [
    {
     "name": "stdout",
     "output_type": "stream",
     "text": [
      "+----------+-------+----+----+-------------+\n",
      "|      date|country|tmin|tmax|is_min_or_max|\n",
      "+----------+-------+----+----+-------------+\n",
      "|2021-01-16|  Japan| 3.9|17.9|          max|\n",
      "|2021-01-10|  Japan|-2.8| 7.4|          min|\n",
      "|2021-02-22|  Japan| 7.3|20.8|          max|\n",
      "|2021-02-18|  Japan|-0.9| 8.6|          min|\n",
      "|2021-03-31|  Japan|15.4|22.4|          max|\n",
      "|2021-03-04|  Japan| 1.9|13.5|          min|\n",
      "|2021-04-22|  Japan|11.1|25.6|          max|\n",
      "|2021-04-15|  Japan| 6.1|14.7|          min|\n",
      "|2021-05-25|  Japan|16.7|27.9|          max|\n",
      "|2021-05-04|  Japan|10.7|23.4|          min|\n",
      "|2021-06-08|  Japan|18.8|30.6|          max|\n",
      "|2021-06-01|  Japan|14.8|24.4|          min|\n",
      "|2021-07-19|  Japan|24.8|33.5|          max|\n",
      "|2021-07-04|  Japan|19.2|20.5|          min|\n",
      "|2021-08-10|  Japan|27.2|36.3|          max|\n",
      "|2021-08-15|  Japan|18.0|19.7|          min|\n",
      "|2021-09-23|  Japan|23.1|30.6|          max|\n",
      "|2021-09-28|  Japan|16.7|24.9|          min|\n",
      "|2021-09-27|  Japan|16.7|22.9|          min|\n",
      "|2021-10-02|  Japan|15.1|29.3|          max|\n",
      "+----------+-------+----+----+-------------+\n",
      "only showing top 20 rows\n",
      "\n"
     ]
    }
   ],
   "source": [
    "window_spec1 = Window.partitionBy('country', year('date'), month('date')).orderBy('tmin')\n",
    "window_spec2 = Window.partitionBy('country', year('date'), month('date')).orderBy(desc('tmax'))\n",
    "\n",
    "weather_df\\\n",
    "        .filter('country == \"Japan\"')\\\n",
    "        .filter(year('date') == 2021)\\\n",
    "        .withColumn('min_rank', dense_rank().over(window_spec1))\\\n",
    "        .withColumn('max_rank', dense_rank().over(window_spec2))\\\n",
    "        .withColumn('is_min_or_max', when(col('min_rank') == 1, lit('min')).when(col('max_rank') == 1, lit('max')))\\\n",
    "        .filter((col('min_rank') == 1) | (col('max_rank') == 1))\\\n",
    "        .select(to_date('date').alias('date'), 'country', 'tmin', 'tmax', 'is_min_or_max')\\\n",
    "        .show()\n"
   ]
  },
  {
   "cell_type": "markdown",
   "metadata": {
    "id": "sMjeUtnT8R6V"
   },
   "source": [
    "8. Find 3 windiest days of Canada in 2020"
   ]
  },
  {
   "cell_type": "code",
   "execution_count": 69,
   "metadata": {
    "colab": {
     "base_uri": "https://localhost:8080/"
    },
    "id": "WzhJgjXn5lJv",
    "outputId": "ace9d968-aeb0-4c66-fde3-10617f6bde9c"
   },
   "outputs": [
    {
     "name": "stdout",
     "output_type": "stream",
     "text": [
      "+----------+-------+----+\n",
      "|      date|country|wspd|\n",
      "+----------+-------+----+\n",
      "|2020-04-22| Canada|28.5|\n",
      "|2020-11-16| Canada|27.1|\n",
      "|2020-03-14| Canada|24.0|\n",
      "+----------+-------+----+\n",
      "only showing top 3 rows\n",
      "\n"
     ]
    }
   ],
   "source": [
    "window_spec = Window.partitionBy('country', year('date'), month('date')).orderBy(desc('wspd'))\n",
    "\n",
    "canda_2020_wspd_df=weather_df\\\n",
    "        .filter('country == \"Canada\"')\\\n",
    "        .filter(year('date') == 2020)\\\n",
    "        .withColumn('max_rank', dense_rank().over(window_spec))\\\n",
    "        .select(to_date('date').alias('date'), 'country', 'wspd')\n",
    "canda_2020_wspd_df.orderBy(desc('wspd')).show(3)"
   ]
  },
  {
   "cell_type": "markdown",
   "metadata": {
    "id": "YhB5ZyxRRhas"
   },
   "source": [
    "9. Highest and lowest wind speed for each continent (join) and the country, date on which it was recorded."
   ]
  },
  {
   "cell_type": "code",
   "execution_count": 172,
   "metadata": {
    "colab": {
     "base_uri": "https://localhost:8080/"
    },
    "id": "tGWJGg0ERgid",
    "outputId": "18080d54-8bcb-434a-8c10-c54bde9ff853"
   },
   "outputs": [
    {
     "name": "stdout",
     "output_type": "stream",
     "text": [
      "+---------+--------------------+-------------------+---------------+\n",
      "|continent|             country|               date|lowestwindspeed|\n",
      "+---------+--------------------+-------------------+---------------+\n",
      "|   Africa|Central African R...|2018-12-04 00:00:00|            0.8|\n",
      "|   Europe|              Jersey|2020-05-09 00:00:00|            0.0|\n",
      "|   Europe|              Jersey|2020-05-10 00:00:00|            0.0|\n",
      "|   Europe|              Jersey|2020-05-11 00:00:00|            0.0|\n",
      "|   Europe|              Jersey|2020-05-12 00:00:00|            0.0|\n",
      "|   Europe|              Jersey|2020-05-14 00:00:00|            0.0|\n",
      "| Americas|Saint Pierre and ...|2021-07-28 00:00:00|            0.0|\n",
      "|     Asia|          Bangladesh|2020-10-26 00:00:00|            0.2|\n",
      "|     Asia|          Bangladesh|2021-12-05 00:00:00|            0.2|\n",
      "|     Asia|          Bangladesh|2021-12-25 00:00:00|            0.2|\n",
      "|     Asia|          Bangladesh|2021-12-26 00:00:00|            0.2|\n",
      "|     Asia|            Thailand|2021-11-06 00:00:00|            0.2|\n",
      "|  Oceania|               Tonga|2018-01-15 00:00:00|            0.0|\n",
      "|  Oceania|               Tonga|2018-01-17 00:00:00|            0.0|\n",
      "|  Oceania|               Tonga|2018-04-01 00:00:00|            0.0|\n",
      "+---------+--------------------+-------------------+---------------+\n",
      "\n",
      "+---------+--------------------+-------------------+----------------+\n",
      "|continent|             country|               date|highestwindspeed|\n",
      "+---------+--------------------+-------------------+----------------+\n",
      "|   Africa|      Western Sahara|2020-07-03 00:00:00|            50.8|\n",
      "|   Europe|         Isle of Man|2018-03-02 00:00:00|            68.5|\n",
      "| Americas|Saint Pierre and ...|2019-02-10 00:00:00|            74.1|\n",
      "|     Asia|          Azerbaijan|2020-02-09 00:00:00|            57.9|\n",
      "|  Oceania|         New Zealand|2021-08-09 00:00:00|            60.4|\n",
      "+---------+--------------------+-------------------+----------------+\n",
      "\n"
     ]
    }
   ],
   "source": [
    "join_expr = weather_df['country'] == country_cont_df['country']\n",
    "\n",
    "joined_df = weather_df.join(F.broadcast(country_cont_df), join_expr)\n",
    "\n",
    "window_spec1 = Window.partitionBy('continent').orderBy(asc('wspd'))\n",
    "window_spec2 = Window.partitionBy('continent').orderBy(desc('wspd'))\n",
    "\n",
    "lowest_windspeed_continent_df = joined_df\\\n",
    "                            .withColumn('dense_rnk', F.dense_rank().over(window_spec1))\\\n",
    "                            .filter('dense_rnk == 1')\\\n",
    "                            .select('continent', weather_df['country'],'date', col('wspd').alias('lowestwindspeed')).distinct()\n",
    "\n",
    "highest_windspeed_continent_df = joined_df\\\n",
    "                            .withColumn('dense_rnk', F.dense_rank().over(window_spec2))\\\n",
    "                            .filter('dense_rnk == 1')\\\n",
    "                            .select('continent', weather_df['country'],'date', col('wspd').alias('highestwindspeed')).distinct()\n",
    "lowest_windspeed_continent_df.show()\n",
    "highest_windspeed_continent_df.show()\n"
   ]
  }
 ],
 "metadata": {
  "colab": {
   "collapsed_sections": [],
   "provenance": []
  },
  "kernelspec": {
   "display_name": "Python 3",
   "name": "python3"
  },
  "language_info": {
   "name": "python"
  }
 },
 "nbformat": 4,
 "nbformat_minor": 0
}
