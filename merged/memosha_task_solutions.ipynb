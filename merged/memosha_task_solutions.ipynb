{
 "cells": [
  {
   "cell_type": "code",
   "execution_count": 2,
   "metadata": {},
   "outputs": [],
   "source": [
    "# 1. Correlation between latitude and average temperature\n",
    "# 2. Min temperature for each country in the month of May each year.\n",
    "# 3. Standard deviation of min temperature for each country in the month of may each year.\n",
    "# 4. 5 windiest  days in Belgium\n",
    "# 5. Difference of each country’s average temperature from global average temperature for 2021.  (Window Function)\n",
    "# 6. Rolling average of temperature in Canada for the month of December 2020 (Window Function)\n",
    "# 7. Find hottest and coldest day of Australia for each month in 2019.\n",
    "# 8. Find 3 windiest days of Canada for each month  in 2020.\n",
    "# 9. Highest temperatures for each continent (join) and the country, date on which it was recorded."
   ]
  },
  {
   "cell_type": "code",
   "execution_count": 9,
   "metadata": {},
   "outputs": [],
   "source": [
    "#Import all necessary libraries\n",
    "\n",
    "from pyspark.sql import SparkSession\n",
    "from pyspark.sql.functions import col\n",
    "from pyspark.sql import SparkSession , functions as fun, Window as Wd"
   ]
  },
  {
   "cell_type": "code",
   "execution_count": 10,
   "metadata": {},
   "outputs": [],
   "source": [
    "# Creating a SparkSession in Python\n",
    "\n",
    "spark = SparkSession.builder.appName('weather_history')\\\n",
    "    .config('spark.driver.extraClassPath', '/usr/lib/jvm/java-17-openjdk-amd64/lib/postgresql-42.5.0.jar')\\\n",
    "    .getOrCreate()\n"
   ]
  },
  {
   "cell_type": "code",
   "execution_count": 11,
   "metadata": {},
   "outputs": [],
   "source": [
    "# Read csv file\n",
    "historical_weather_df = spark.read.option(\"header\",True) \\\n",
    "     .csv(\"apache_spark_project/cleaned_data/cleaned_weather_data.csv\")"
   ]
  },
  {
   "cell_type": "code",
   "execution_count": 12,
   "metadata": {},
   "outputs": [
    {
     "name": "stdout",
     "output_type": "stream",
     "text": [
      "+----------+--------+-------+---------+---------+----+----+----+----+------+\n",
      "|      date| country|   city| Latitude|Longitude|tavg|tmin|tmax|wspd|  pres|\n",
      "+----------+--------+-------+---------+---------+----+----+----+----+------+\n",
      "|2018-07-21|Abkhazia|Sukhumi|43.001525|41.023415|23.4|20.9|25.5| 9.3|1009.6|\n",
      "|2018-07-22|Abkhazia|Sukhumi|43.001525|41.023415|23.5|21.0|25.7| 9.4|1010.0|\n",
      "|2018-07-23|Abkhazia|Sukhumi|43.001525|41.023415|23.5|21.1|25.5| 8.2|1007.7|\n",
      "|2018-07-24|Abkhazia|Sukhumi|43.001525|41.023415|24.3|20.8|27.1| 9.3|1004.4|\n",
      "|2018-07-25|Abkhazia|Sukhumi|43.001525|41.023415|26.5|22.7|30.0| 9.7|1002.0|\n",
      "|2018-07-26|Abkhazia|Sukhumi|43.001525|41.023415|26.7|24.6|28.7| 9.8|1006.7|\n",
      "|2018-07-27|Abkhazia|Sukhumi|43.001525|41.023415|26.5|24.6|28.1| 8.4|1009.1|\n",
      "|2018-07-28|Abkhazia|Sukhumi|43.001525|41.023415|26.4|24.5|28.2| 8.6|1007.5|\n",
      "|2018-07-29|Abkhazia|Sukhumi|43.001525|41.023415|26.3|24.4|28.1| 9.3|1007.0|\n",
      "|2018-07-30|Abkhazia|Sukhumi|43.001525|41.023415|26.5|24.5|28.4| 9.3|1007.4|\n",
      "|2018-07-31|Abkhazia|Sukhumi|43.001525|41.023415|26.8|24.7|28.7| 9.1|1008.2|\n",
      "|2018-08-01|Abkhazia|Sukhumi|43.001525|41.023415|26.4|24.7|28.3| 9.1|1008.5|\n",
      "|2018-08-02|Abkhazia|Sukhumi|43.001525|41.023415|25.4|23.4|27.0| 9.5|1008.7|\n",
      "|2018-08-03|Abkhazia|Sukhumi|43.001525|41.023415|24.5|22.9|25.8|10.4|1007.9|\n",
      "|2018-08-04|Abkhazia|Sukhumi|43.001525|41.023415|23.8|22.0|25.3|12.0|1008.8|\n",
      "|2018-08-05|Abkhazia|Sukhumi|43.001525|41.023415|24.1|21.3|26.5|10.2|1012.4|\n",
      "|2018-08-06|Abkhazia|Sukhumi|43.001525|41.023415|24.6|21.6|26.9| 9.6|1013.1|\n",
      "|2018-08-07|Abkhazia|Sukhumi|43.001525|41.023415|25.2|22.7|27.3| 9.4|1011.5|\n",
      "|2018-08-08|Abkhazia|Sukhumi|43.001525|41.023415|24.7|22.9|26.5| 8.7|1010.0|\n",
      "|2018-08-09|Abkhazia|Sukhumi|43.001525|41.023415|23.7|22.2|24.7|11.9|1010.4|\n",
      "+----------+--------+-------+---------+---------+----+----+----+----+------+\n",
      "only showing top 20 rows\n",
      "\n"
     ]
    }
   ],
   "source": [
    "historical_weather_df.show()"
   ]
  },
  {
   "cell_type": "code",
   "execution_count": 16,
   "metadata": {},
   "outputs": [
    {
     "name": "stdout",
     "output_type": "stream",
     "text": [
      "root\n",
      " |-- date: string (nullable = true)\n",
      " |-- country: string (nullable = true)\n",
      " |-- city: string (nullable = true)\n",
      " |-- Latitude: string (nullable = true)\n",
      " |-- Longitude: string (nullable = true)\n",
      " |-- tavg: string (nullable = true)\n",
      " |-- tmin: string (nullable = true)\n",
      " |-- tmax: string (nullable = true)\n",
      " |-- wspd: string (nullable = true)\n",
      " |-- pres: string (nullable = true)\n",
      "\n"
     ]
    }
   ],
   "source": [
    "historical_weather_df.printSchema()"
   ]
  },
  {
   "cell_type": "code",
   "execution_count": 17,
   "metadata": {},
   "outputs": [],
   "source": [
    "# Read csv file\n",
    "country_continent_df = spark.read.option(\"header\",True) \\\n",
    "     .csv(\"apache_spark_project/cleaned_data/cleaned_country_continent.csv\")"
   ]
  },
  {
   "cell_type": "code",
   "execution_count": 18,
   "metadata": {},
   "outputs": [
    {
     "name": "stdout",
     "output_type": "stream",
     "text": [
      "+-------------------+---------+\n",
      "|            country|continent|\n",
      "+-------------------+---------+\n",
      "|        Afghanistan|     Asia|\n",
      "|      �land Islands|   Europe|\n",
      "|            Albania|   Europe|\n",
      "|            Algeria|   Africa|\n",
      "|     American Samoa|  Oceania|\n",
      "|            Andorra|   Europe|\n",
      "|             Angola|   Africa|\n",
      "|           Anguilla| Americas|\n",
      "|Antigua and Barbuda| Americas|\n",
      "|          Argentina| Americas|\n",
      "|            Armenia|     Asia|\n",
      "|              Aruba| Americas|\n",
      "|          Australia|  Oceania|\n",
      "|            Austria|   Europe|\n",
      "|         Azerbaijan|     Asia|\n",
      "|            Bahamas| Americas|\n",
      "|            Bahrain|     Asia|\n",
      "|         Bangladesh|     Asia|\n",
      "|           Barbados| Americas|\n",
      "|            Belarus|   Europe|\n",
      "+-------------------+---------+\n",
      "only showing top 20 rows\n",
      "\n"
     ]
    }
   ],
   "source": [
    "country_continent_df.show()"
   ]
  },
  {
   "cell_type": "markdown",
   "metadata": {},
   "source": [
    "1. Correlation between latitude and average temperature"
   ]
  },
  {
   "cell_type": "code",
   "execution_count": 19,
   "metadata": {},
   "outputs": [],
   "source": [
    "corr_df = historical_weather_df.select(fun.corr('Latitude', 'tavg'))"
   ]
  },
  {
   "cell_type": "code",
   "execution_count": 20,
   "metadata": {},
   "outputs": [
    {
     "name": "stdout",
     "output_type": "stream",
     "text": [
      "+--------------------+\n",
      "|corr(Latitude, tavg)|\n",
      "+--------------------+\n",
      "|-0.45070195626748133|\n",
      "+--------------------+\n",
      "\n"
     ]
    }
   ],
   "source": [
    "corr_df.show()"
   ]
  },
  {
   "cell_type": "markdown",
   "metadata": {},
   "source": [
    " 2. Min temperature for each country in the month of May each year."
   ]
  },
  {
   "cell_type": "code",
   "execution_count": 21,
   "metadata": {},
   "outputs": [
    {
     "name": "stdout",
     "output_type": "stream",
     "text": [
      "+----+-----+--------------+--------+\n",
      "|year|month|       country|min_temp|\n",
      "+----+-----+--------------+--------+\n",
      "|2019|    5|      Abkhazia|     0.9|\n",
      "|2020|    5|      Abkhazia|    10.3|\n",
      "|2021|    5|      Abkhazia|    10.2|\n",
      "|2022|    5|      Abkhazia|    10.4|\n",
      "|2018|    5| Aland Islands|    -0.6|\n",
      "|2019|    5| Aland Islands|    -0.2|\n",
      "|2020|    5| Aland Islands|    -0.3|\n",
      "|2021|    5| Aland Islands|    -1.1|\n",
      "|2022|    5| Aland Islands|    -0.3|\n",
      "|2018|    5|       Albania|    11.1|\n",
      "|2019|    5|       Albania|    10.1|\n",
      "|2020|    5|       Albania|    10.7|\n",
      "|2021|    5|       Albania|    11.6|\n",
      "|2022|    5|       Albania|    10.2|\n",
      "|2018|    5|       Algeria|    11.1|\n",
      "|2019|    5|       Algeria|    13.7|\n",
      "|2020|    5|       Algeria|    12.7|\n",
      "|2021|    5|       Algeria|    13.1|\n",
      "|2022|    5|       Algeria|    10.0|\n",
      "|2018|    5|American Samoa|    22.6|\n",
      "+----+-----+--------------+--------+\n",
      "only showing top 20 rows\n",
      "\n"
     ]
    }
   ],
   "source": [
    "min_temp_may_df = historical_weather_df.groupBy(fun.year('date').alias('year'), fun.month('date').alias('month'), 'country').agg(fun.min('tmin').alias('min_temp')).filter('month == 05').orderBy('country', 'year')\n",
    "\n",
    "min_temp_may_df.show()"
   ]
  },
  {
   "cell_type": "markdown",
   "metadata": {},
   "source": [
    "3. Standard deviation of min temperature for each country in the month of may each year."
   ]
  },
  {
   "cell_type": "code",
   "execution_count": 26,
   "metadata": {},
   "outputs": [
    {
     "name": "stdout",
     "output_type": "stream",
     "text": [
      "+-------------------+-------------------+\n",
      "|            country|stddev_min_temp_may|\n",
      "+-------------------+-------------------+\n",
      "|           Abkhazia|                4.7|\n",
      "|      Aland Islands|                0.4|\n",
      "|            Albania|                0.6|\n",
      "|            Algeria|                1.5|\n",
      "|     American Samoa|                0.8|\n",
      "|             Angola|                0.7|\n",
      "|           Anguilla|                0.6|\n",
      "|Antigua and Barbuda|                1.6|\n",
      "|          Argentina|                0.3|\n",
      "|              Aruba|                2.3|\n",
      "|            Austria|                0.6|\n",
      "|         Azerbaijan|                0.5|\n",
      "|            Bahamas|                1.0|\n",
      "|            Bahrain|                0.8|\n",
      "|         Bangladesh|                1.3|\n",
      "|           Barbados|                0.4|\n",
      "|            Belarus|                5.5|\n",
      "|            Belgium|                4.7|\n",
      "|            Bermuda|                1.2|\n",
      "|      Bouvet Island|                0.2|\n",
      "+-------------------+-------------------+\n",
      "only showing top 20 rows\n",
      "\n"
     ]
    }
   ],
   "source": [
    "stddev_min_temp_may_df = min_temp_may_df\\\n",
    "                            .groupBy('country')\\\n",
    "                            .agg(fun.stddev('min_temp').alias('stddev'))\\\n",
    "                            .orderBy('country')\\\n",
    "                            .select('country',fun.round('stddev', 1).alias('stddev_min_temp_may'))\n",
    "\n",
    "stddev_min_temp_may_df.show()"
   ]
  },
  {
   "cell_type": "markdown",
   "metadata": {},
   "source": [
    "4. 5 windiest  days in Belgium"
   ]
  },
  {
   "cell_type": "code",
   "execution_count": 40,
   "metadata": {},
   "outputs": [
    {
     "name": "stdout",
     "output_type": "stream",
     "text": [
      "+----------+-------+--------+----+\n",
      "|      date|country|avg_wind|rank|\n",
      "+----------+-------+--------+----+\n",
      "|2021-07-05|Belgium|    10.0|   1|\n",
      "|2022-01-11|Belgium|    10.0|   1|\n",
      "|2022-02-11|Belgium|    10.0|   1|\n",
      "|2018-04-29|Belgium|    10.1|   2|\n",
      "|2018-05-29|Belgium|    10.1|   2|\n",
      "+----------+-------+--------+----+\n",
      "only showing top 5 rows\n",
      "\n"
     ]
    }
   ],
   "source": [
    "# Window Function\n",
    "window_spec = Wd.partitionBy('country').orderBy('wspd')\n",
    "ranked_df = historical_weather_df\\\n",
    "                .withColumn('dense_rn', fun.dense_rank().over(window_spec))\\\n",
    "                .filter('dense_rn <= 5')\\\n",
    "                .filter('country == \"Belgium\"')\n",
    "\n",
    "windiest_belgium_df = ranked_df.select('date', 'country', col('wspd').alias('avg_wind'), col('dense_rn').alias('rank'))\n",
    "windiest_belgium_df.show(5)"
   ]
  },
  {
   "cell_type": "markdown",
   "metadata": {},
   "source": [
    "5. Difference of each country’s average temperature from global average temperature for 2021.  (Window Function)"
   ]
  },
  {
   "cell_type": "code",
   "execution_count": 15,
   "metadata": {},
   "outputs": [
    {
     "name": "stdout",
     "output_type": "stream",
     "text": [
      "+-------------------+-------------------+\n",
      "|            country|           avg_temp|\n",
      "+-------------------+-------------------+\n",
      "|           Abkhazia|  15.08465753424658|\n",
      "|      Aland Islands|  6.564285714285716|\n",
      "|            Albania| 16.885164835164826|\n",
      "|            Algeria| 19.529863013698623|\n",
      "|     American Samoa|  27.16657534246574|\n",
      "|             Angola| 25.747945205479454|\n",
      "|           Anguilla| 26.690958904109575|\n",
      "|Antigua and Barbuda|   26.8358904109589|\n",
      "|          Argentina| 17.718082191780802|\n",
      "|              Aruba| 27.780547945205477|\n",
      "|            Austria| 12.865109890109885|\n",
      "|         Azerbaijan| 15.511232876712326|\n",
      "|            Bahamas| 25.486538461538434|\n",
      "|            Bahrain| 28.202191780821906|\n",
      "|         Bangladesh| 26.944109589041116|\n",
      "|           Barbados|  27.23013698630137|\n",
      "|            Belarus| 7.8641095890410995|\n",
      "|            Belgium| 10.930494505494517|\n",
      "|            Bermuda| 22.173076923076913|\n",
      "|      Bouvet Island|-0.8765363128491619|\n",
      "+-------------------+-------------------+\n",
      "only showing top 20 rows\n",
      "\n",
      "+----+-------------------+--------+---------------+----------+\n",
      "|year|            country|avg_temp|global_avg_temp|difference|\n",
      "+----+-------------------+--------+---------------+----------+\n",
      "|2021|           Abkhazia|    15.1|           20.9|      -5.8|\n",
      "|2021|      Aland Islands|     6.6|           20.9|     -14.3|\n",
      "|2021|            Albania|    16.9|           20.9|      -4.0|\n",
      "|2021|            Algeria|    19.5|           20.9|      -1.4|\n",
      "|2021|     American Samoa|    27.2|           20.9|       6.3|\n",
      "|2021|             Angola|    25.7|           20.9|       4.8|\n",
      "|2021|           Anguilla|    26.7|           20.9|       5.8|\n",
      "|2021|Antigua and Barbuda|    26.8|           20.9|       5.9|\n",
      "|2021|          Argentina|    17.7|           20.9|      -3.2|\n",
      "|2021|              Aruba|    27.8|           20.9|       6.9|\n",
      "|2021|            Austria|    12.9|           20.9|      -8.0|\n",
      "|2021|         Azerbaijan|    15.5|           20.9|      -5.4|\n",
      "|2021|            Bahamas|    25.5|           20.9|       4.6|\n",
      "|2021|            Bahrain|    28.2|           20.9|       7.3|\n",
      "|2021|         Bangladesh|    26.9|           20.9|       6.0|\n",
      "|2021|           Barbados|    27.2|           20.9|       6.3|\n",
      "|2021|            Belarus|     7.9|           20.9|     -13.0|\n",
      "|2021|            Belgium|    10.9|           20.9|     -10.0|\n",
      "|2021|            Bermuda|    22.2|           20.9|       1.3|\n",
      "|2021|      Bouvet Island|    -0.9|           20.9|     -21.8|\n",
      "+----+-------------------+--------+---------------+----------+\n",
      "only showing top 20 rows\n",
      "\n"
     ]
    }
   ],
   "source": [
    "avg_temp_df = historical_weather_df\\\n",
    "                .filter(fun.year('date') == 2021)\\\n",
    "                .groupBy('country')\\\n",
    "                .agg(fun.mean('tavg').alias('avg_temp'))\\\n",
    "                .orderBy('country')\n",
    "\n",
    "avg_temp_df.show()\n",
    "\n",
    "global_avg_temp = round(historical_weather_df.select(fun.mean('tavg')).collect()[0][0], 1)\n",
    "global_avg_temp # 20.9\n",
    "\n",
    "diff_global_avg_temp_df = avg_temp_df\\\n",
    "                            .withColumn('year', fun.lit(2021))\\\n",
    "                            .withColumn('avg_temp',fun.round('avg_temp', 1))\\\n",
    "                            .withColumn('global_avg_temp', fun.lit(global_avg_temp))\\\n",
    "                            .withColumn('difference', fun.round(col('avg_temp') - col('global_avg_temp'), 1))\n",
    "\n",
    "diff_global_avg_temp_df = diff_global_avg_temp_df.select('year', 'country', 'avg_temp', 'global_avg_temp', 'difference')\n",
    "\n",
    "diff_global_avg_temp_df.show()"
   ]
  },
  {
   "cell_type": "markdown",
   "metadata": {},
   "source": [
    "6. Rolling average of temperature in Canada for the month of December 2020 (Window Function)"
   ]
  },
  {
   "cell_type": "code",
   "execution_count": 16,
   "metadata": {},
   "outputs": [
    {
     "name": "stdout",
     "output_type": "stream",
     "text": [
      "+----------+-------+-----+-----------+\n",
      "|      date|country| tavg|rolling_avg|\n",
      "+----------+-------+-----+-----------+\n",
      "|2020-12-01| Canada|  3.1|        3.1|\n",
      "|2020-12-02| Canada| -2.2|        0.4|\n",
      "|2020-12-03| Canada| -0.7|        0.1|\n",
      "|2020-12-04| Canada|  1.9|        0.5|\n",
      "|2020-12-05| Canada| -1.1|        0.2|\n",
      "|2020-12-06| Canada| -2.8|       -0.3|\n",
      "|2020-12-07| Canada| -4.4|       -0.9|\n",
      "|2020-12-08| Canada| -6.7|       -1.6|\n",
      "|2020-12-09| Canada| -1.9|       -1.6|\n",
      "|2020-12-10| Canada|  0.9|       -1.4|\n",
      "|2020-12-11| Canada|  1.9|       -1.1|\n",
      "|2020-12-12| Canada|  1.9|       -0.8|\n",
      "|2020-12-13| Canada|  1.7|       -0.6|\n",
      "|2020-12-14| Canada| -2.9|       -0.8|\n",
      "|2020-12-15| Canada|-10.4|       -1.4|\n",
      "|2020-12-16| Canada|-14.7|       -2.3|\n",
      "|2020-12-17| Canada| -8.8|       -2.7|\n",
      "|2020-12-18| Canada| -8.7|       -3.0|\n",
      "|2020-12-19| Canada| -8.4|       -3.3|\n",
      "|2020-12-20| Canada| -1.2|       -3.2|\n",
      "+----------+-------+-----+-----------+\n",
      "only showing top 20 rows\n",
      "\n"
     ]
    }
   ],
   "source": [
    "window_spec = Wd.partitionBy('country').orderBy('date').rowsBetween(Wd.unboundedPreceding, Wd.currentRow)\n",
    "\n",
    "canada_december_2020_df = historical_weather_df\\\n",
    "                        .filter(fun.year('date') == 2020)\\\n",
    "                        .filter(fun.month('date') == 12)\\\n",
    "                        .filter('country == \"Canada\"')\\\n",
    "                        .withColumn('rolling_avg', fun.mean('tavg').over(window_spec))\\\n",
    "                        .select('date', 'country', 'tavg', fun.round('rolling_avg', 1).alias('rolling_avg'))\n",
    "\n",
    "canada_december_2020_df.show()"
   ]
  },
  {
   "cell_type": "markdown",
   "metadata": {},
   "source": [
    "7. Find hottest and coldest day of Belgium for each month in 2019."
   ]
  },
  {
   "cell_type": "code",
   "execution_count": 17,
   "metadata": {},
   "outputs": [
    {
     "name": "stdout",
     "output_type": "stream",
     "text": [
      "+----------+-------+----+----+-------------+\n",
      "|      date|country|tmin|tmax|is_min_or_max|\n",
      "+----------+-------+----+----+-------------+\n",
      "|2019-01-13|Belgium| 6.9| 9.7|          max|\n",
      "|2019-01-29|Belgium|-0.6| 4.9|          min|\n",
      "|2019-02-07|Belgium| 5.9| 9.9|          max|\n",
      "|2019-02-03|Belgium|-0.1| 5.9|          min|\n",
      "|2019-03-13|Belgium| 4.6| 9.9|          max|\n",
      "|2019-03-19|Belgium| 0.1|11.2|          min|\n",
      "|2019-04-03|Belgium| 3.6| 9.8|          max|\n",
      "|2019-04-14|Belgium|-0.2| 9.7|          min|\n",
      "|2019-05-24|Belgium|12.1|22.4|          max|\n",
      "|2019-05-06|Belgium| 1.8|11.7|          min|\n",
      "|2019-06-29|Belgium|16.8|32.8|          max|\n",
      "|2019-06-14|Belgium|10.7|23.2|          min|\n",
      "|2019-07-25|Belgium|23.7|39.9|          max|\n",
      "|2019-07-09|Belgium|10.4|21.3|          min|\n",
      "|2019-08-27|Belgium|19.8|33.5|          max|\n",
      "|2019-08-14|Belgium|10.9|20.8|          min|\n",
      "|2019-09-21|Belgium| 9.0|27.3|          max|\n",
      "|2019-09-05|Belgium|10.8|17.2|          min|\n",
      "|2019-10-13|Belgium|15.0|23.4|          max|\n",
      "|2019-10-31|Belgium| 1.2|10.5|          min|\n",
      "+----------+-------+----+----+-------------+\n",
      "only showing top 20 rows\n",
      "\n"
     ]
    }
   ],
   "source": [
    "window_spec1 = Wd.partitionBy('country', fun.year('date'), fun.month('date')).orderBy('tmin')\n",
    "window_spec2 = Wd.partitionBy('country', fun.year('date'), fun.month('date')).orderBy(fun.desc('tmax'))\n",
    "\n",
    "historical_weather_df\\\n",
    "        .filter('country == \"Belgium\"')\\\n",
    "        .filter(fun.year('date') == 2019)\\\n",
    "        .withColumn('min_rank', fun.dense_rank().over(window_spec1))\\\n",
    "        .withColumn('max_rank', fun.dense_rank().over(window_spec2))\\\n",
    "        .withColumn('is_min_or_max', fun.when(col('min_rank') == 1, fun.lit('min')).when(col('max_rank') == 1, fun.lit('max')))\\\n",
    "        .filter((col('min_rank') == 1) | (col('max_rank') == 1))\\\n",
    "        .select(fun.to_date('date').alias('date'), 'country', 'tmin', 'tmax', 'is_min_or_max')\\\n",
    "        .show()\n"
   ]
  },
  {
   "cell_type": "markdown",
   "metadata": {},
   "source": [
    "8. Find 4 windiest days of Canada for each month in 2021."
   ]
  },
  {
   "cell_type": "code",
   "execution_count": 39,
   "metadata": {},
   "outputs": [
    {
     "name": "stdout",
     "output_type": "stream",
     "text": [
      "+----------+-------+----+\n",
      "|      date|country|wspd|\n",
      "+----------+-------+----+\n",
      "|2021-01-01| Canada| 6.9|\n",
      "|2021-01-02| Canada|13.5|\n",
      "|2021-01-03| Canada| 7.5|\n",
      "|2021-01-04| Canada| 5.1|\n",
      "+----------+-------+----+\n",
      "only showing top 4 rows\n",
      "\n"
     ]
    }
   ],
   "source": [
    "window_spec = Wd.partitionBy('country', fun.year('date'), fun.month('date')).orderBy('wspd')\n",
    "\n",
    "canada_2021_windiest_df=historical_weather_df\\\n",
    "        .filter('country == \"Canada\"')\\\n",
    "        .filter(fun.year('date') == 2021)\\\n",
    "        .withColumn('max_rank', fun.dense_rank().over(window_spec))\\\n",
    "        .select(fun.to_date('date').alias('date'), 'country', 'wspd')\n",
    "canada_2021_windiest_df.show(4)"
   ]
  },
  {
   "cell_type": "markdown",
   "metadata": {},
   "source": [
    "9. Highest temperatures for each continent (join) and the country, date on which it was recorded."
   ]
  },
  {
   "cell_type": "code",
   "execution_count": 20,
   "metadata": {},
   "outputs": [
    {
     "name": "stdout",
     "output_type": "stream",
     "text": [
      "+---------+----------+-------------+--------+\n",
      "|continent|      date|      country|max_temp|\n",
      "+---------+----------+-------------+--------+\n",
      "|   Africa|2021-01-02|      Algeria|    10.3|\n",
      "|   Africa|2019-12-30|        Libya|    10.3|\n",
      "|   Europe|2018-11-21|      Belarus|    -0.1|\n",
      "|   Europe|2019-01-31|      Belgium|    -0.1|\n",
      "|   Europe|2019-01-23|      Croatia|    -0.1|\n",
      "|   Europe|2018-01-10|      Estonia|    -0.1|\n",
      "|   Europe|2018-11-27|      Estonia|    -0.1|\n",
      "|   Europe|2019-02-12|      Estonia|    -0.1|\n",
      "|   Europe|2021-01-31|Faroe Islands|    -0.1|\n",
      "|   Europe|2018-02-15|      Finland|    -0.1|\n",
      "|   Europe|2018-03-21|      Finland|    -0.1|\n",
      "|   Europe|2018-12-20|      Finland|    -0.1|\n",
      "|   Europe|2019-01-06|      Finland|    -0.1|\n",
      "|   Europe|2021-01-12|      Finland|    -0.1|\n",
      "|   Europe|2019-01-22|      Germany|    -0.1|\n",
      "|   Europe|2022-01-11|      Germany|    -0.1|\n",
      "|   Europe|2020-01-18|      Hungary|    -0.1|\n",
      "|   Europe|2018-02-08|      Iceland|    -0.1|\n",
      "|   Europe|2018-02-09|      Iceland|    -0.1|\n",
      "|   Europe|2018-02-10|      Iceland|    -0.1|\n",
      "+---------+----------+-------------+--------+\n",
      "only showing top 20 rows\n",
      "\n"
     ]
    }
   ],
   "source": [
    "join_expr = historical_weather_df['country'] == country_continent_df['country']\n",
    "\n",
    "joined_df = historical_weather_df.join(fun.broadcast(country_continent_df), join_expr) # since country dataset has a small size, we use broadcast join\n",
    "\n",
    "window_spec = Wd.partitionBy('continent').orderBy('tmax')\n",
    "\n",
    "highest_temp_continent_df = joined_df\\\n",
    "                            .withColumn('dense_rnk', fun.dense_rank().over(window_spec))\\\n",
    "                            .filter('dense_rnk == 1')\\\n",
    "                            .select('continent', 'date', historical_weather_df['country'], col('tmax').alias('max_temp'))\n",
    "\n",
    "highest_temp_continent_df.show()"
   ]
  }
 ],
 "metadata": {
  "kernelspec": {
   "display_name": "Python 3",
   "language": "python",
   "name": "python3"
  },
  "language_info": {
   "codemirror_mode": {
    "name": "ipython",
    "version": 3
   },
   "file_extension": ".py",
   "mimetype": "text/x-python",
   "name": "python",
   "nbconvert_exporter": "python",
   "pygments_lexer": "ipython3",
   "version": "3.8.10"
  }
 },
 "nbformat": 4,
 "nbformat_minor": 4
}
