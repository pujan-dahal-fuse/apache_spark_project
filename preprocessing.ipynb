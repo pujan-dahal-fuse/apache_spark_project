{
 "cells": [
  {
   "cell_type": "markdown",
   "id": "b0705b55",
   "metadata": {},
   "source": [
    "# Load modules and data"
   ]
  },
  {
   "cell_type": "markdown",
   "id": "f6271494",
   "metadata": {},
   "source": [
    "### import the necessary packages"
   ]
  },
  {
   "cell_type": "code",
   "execution_count": 1,
   "id": "a1e4f62f",
   "metadata": {},
   "outputs": [
    {
     "name": "stdout",
     "output_type": "stream",
     "text": [
      "22/11/03 10:15:44 WARN Utils: Your hostname, tars resolves to a loopback address: 127.0.1.1; using 192.168.1.66 instead (on interface wlan0)\n",
      "22/11/03 10:15:44 WARN Utils: Set SPARK_LOCAL_IP if you need to bind to another address\n"
     ]
    },
    {
     "name": "stderr",
     "output_type": "stream",
     "text": [
      "Setting default log level to \"WARN\".\n",
      "To adjust logging level use sc.setLogLevel(newLevel). For SparkR, use setLogLevel(newLevel).\n"
     ]
    },
    {
     "name": "stdout",
     "output_type": "stream",
     "text": [
      "22/11/03 10:15:45 WARN NativeCodeLoader: Unable to load native-hadoop library for your platform... using builtin-java classes where applicable\n"
     ]
    }
   ],
   "source": [
    "from pyspark.sql import SparkSession, functions as F\n",
    "from pyspark.sql.functions import col\n",
    "\n",
    "\n",
    "spark = SparkSession.builder.appName('Preprocessing').getOrCreate()"
   ]
  },
  {
   "cell_type": "markdown",
   "id": "40f207a1",
   "metadata": {},
   "source": [
    "### load data into weather_df"
   ]
  },
  {
   "cell_type": "code",
   "execution_count": 2,
   "id": "fb8a510a",
   "metadata": {},
   "outputs": [
    {
     "name": "stderr",
     "output_type": "stream",
     "text": [
      "\r\n",
      "[Stage 1:>                                                          (0 + 7) / 7]\r\n",
      "\r\n",
      "[Stage 1:========>                                                  (1 + 6) / 7]\r"
     ]
    },
    {
     "name": "stdout",
     "output_type": "stream",
     "text": [
      "root\n",
      " |-- date: string (nullable = true)\n",
      " |-- country: string (nullable = true)\n",
      " |-- city: string (nullable = true)\n",
      " |-- Latitude: double (nullable = true)\n",
      " |-- Longitude: double (nullable = true)\n",
      " |-- tavg: double (nullable = true)\n",
      " |-- tmin: double (nullable = true)\n",
      " |-- tmax: double (nullable = true)\n",
      " |-- wdir: integer (nullable = true)\n",
      " |-- wspd: double (nullable = true)\n",
      " |-- pres: double (nullable = true)\n",
      "\n"
     ]
    },
    {
     "name": "stderr",
     "output_type": "stream",
     "text": [
      "\r\n",
      "                                                                                \r"
     ]
    }
   ],
   "source": [
    "weather_df = spark\\\n",
    "            .read\\\n",
    "            .option('inferSchema', 'true')\\\n",
    "            .option('header', 'true')\\\n",
    "            .csv('data/daily_weather_data.csv')\n",
    "\n",
    "weather_df.printSchema()"
   ]
  },
  {
   "cell_type": "code",
   "execution_count": 3,
   "id": "040d9f1d",
   "metadata": {},
   "outputs": [
    {
     "data": {
      "text/plain": [
       "7"
      ]
     },
     "execution_count": 3,
     "metadata": {},
     "output_type": "execute_result"
    }
   ],
   "source": [
    "weather_df.rdd.getNumPartitions()"
   ]
  },
  {
   "cell_type": "code",
   "execution_count": 4,
   "id": "696d9695",
   "metadata": {},
   "outputs": [
    {
     "data": {
      "text/plain": [
       "324647"
      ]
     },
     "execution_count": 4,
     "metadata": {},
     "output_type": "execute_result"
    }
   ],
   "source": [
    "# number of rows\n",
    "weather_df.count()"
   ]
  },
  {
   "cell_type": "code",
   "execution_count": 5,
   "id": "f640f9e0",
   "metadata": {
    "scrolled": true
   },
   "outputs": [
    {
     "name": "stdout",
     "output_type": "stream",
     "text": [
      "+----------+--------+-------+---------+---------+----+----+----+----+----+------+\n",
      "|      date| country|   city| Latitude|Longitude|tavg|tmin|tmax|wdir|wspd|  pres|\n",
      "+----------+--------+-------+---------+---------+----+----+----+----+----+------+\n",
      "|21-07-2018|Abkhazia|Sukhumi|43.001525|41.023415|23.4|20.9|25.5| 329| 9.3|1009.6|\n",
      "|22-07-2018|Abkhazia|Sukhumi|43.001525|41.023415|23.5|21.0|25.7| 337| 9.4|1010.0|\n",
      "|23-07-2018|Abkhazia|Sukhumi|43.001525|41.023415|23.5|21.1|25.5|  41| 8.2|1007.7|\n",
      "+----------+--------+-------+---------+---------+----+----+----+----+----+------+\n",
      "only showing top 3 rows\n",
      "\n"
     ]
    }
   ],
   "source": [
    "# example data\n",
    "weather_df.show(3)"
   ]
  },
  {
   "cell_type": "markdown",
   "id": "110169e4",
   "metadata": {},
   "source": [
    "# Data cleaning"
   ]
  },
  {
   "cell_type": "markdown",
   "id": "f93ddb0b",
   "metadata": {},
   "source": [
    "## 1. Cleaning Weather Data"
   ]
  },
  {
   "cell_type": "code",
   "execution_count": 6,
   "id": "40912796",
   "metadata": {},
   "outputs": [
    {
     "name": "stdout",
     "output_type": "stream",
     "text": [
      "+----+-------+----+--------+---------+----+-----+-----+-----+-----+-----+\n",
      "|date|country|city|Latitude|Longitude|tavg| tmin| tmax| wdir| wspd| pres|\n",
      "+----+-------+----+--------+---------+----+-----+-----+-----+-----+-----+\n",
      "|   0|      0|   0|       0|        0|9684|12363|12378|40710|22247|35231|\n",
      "+----+-------+----+--------+---------+----+-----+-----+-----+-----+-----+\n",
      "\n"
     ]
    }
   ],
   "source": [
    "# count how many null values are in each column\n",
    "\n",
    "weather_df.select([F.count(F.when(F.col(c).isNull(), c)).alias(c) for c in weather_df.columns]).show()"
   ]
  },
  {
   "cell_type": "markdown",
   "id": "6866dc2f",
   "metadata": {},
   "source": [
    "### lets see what kind of nulls we are dealing with"
   ]
  },
  {
   "cell_type": "code",
   "execution_count": 7,
   "id": "1ed2f210",
   "metadata": {},
   "outputs": [
    {
     "name": "stdout",
     "output_type": "stream",
     "text": [
      "+----------+-------------+---------+---------+---------+----+----+----+----+----+----+\n",
      "|      date|      country|     city| Latitude|Longitude|tavg|tmin|tmax|wdir|wspd|pres|\n",
      "+----------+-------------+---------+---------+---------+----+----+----+----+----+----+\n",
      "|03-06-2022|     Abkhazia|  Sukhumi|43.001525|41.023415|null|null|null|null|null|null|\n",
      "|04-06-2022|     Abkhazia|  Sukhumi|43.001525|41.023415|null|null|null|null|null|null|\n",
      "|05-06-2022|     Abkhazia|  Sukhumi|43.001525|41.023415|null|null|null|null|null|null|\n",
      "|06-06-2022|     Abkhazia|  Sukhumi|43.001525|41.023415|null|null|null|null|null|null|\n",
      "|07-06-2022|     Abkhazia|  Sukhumi|43.001525|41.023415|null|null|null|null|null|null|\n",
      "|08-06-2022|     Abkhazia|  Sukhumi|43.001525|41.023415|null|null|null|null|null|null|\n",
      "|09-06-2022|     Abkhazia|  Sukhumi|43.001525|41.023415|null|null|null|null|null|null|\n",
      "|10-06-2022|     Abkhazia|  Sukhumi|43.001525|41.023415|null|null|null|null|null|null|\n",
      "|11-06-2022|     Abkhazia|  Sukhumi|43.001525|41.023415|null|null|null|null|null|null|\n",
      "|12-06-2022|     Abkhazia|  Sukhumi|43.001525|41.023415|null|null|null|null|null|null|\n",
      "|13-06-2022|     Abkhazia|  Sukhumi|43.001525|41.023415|null|null|null|null|null|null|\n",
      "|14-06-2022|     Abkhazia|  Sukhumi|43.001525|41.023415|null|null|null|null|null|null|\n",
      "|25-03-2018|Aland Islands|Mariehamn|     60.1|19.933333|null|null|null|null|null|null|\n",
      "|11-04-2018|Aland Islands|Mariehamn|     60.1|19.933333|null|null|null|null|null|null|\n",
      "|31-03-2019|Aland Islands|Mariehamn|     60.1|19.933333|null|null|null|null|null|null|\n",
      "|29-03-2020|Aland Islands|Mariehamn|     60.1|19.933333|null|null|null|null|null|null|\n",
      "|28-03-2021|Aland Islands|Mariehamn|     60.1|19.933333|null|null|null|null|null|null|\n",
      "|27-03-2022|Aland Islands|Mariehamn|     60.1|19.933333|null|null|null|null|null|null|\n",
      "|27-04-2018|       Angola|   Luanda|-8.839988|13.289437|null|null|null|null|null|null|\n",
      "|28-04-2018|       Angola|   Luanda|-8.839988|13.289437|null|null|null|null|null|null|\n",
      "+----------+-------------+---------+---------+---------+----+----+----+----+----+----+\n",
      "only showing top 20 rows\n",
      "\n"
     ]
    },
    {
     "data": {
      "text/plain": [
       "7436"
      ]
     },
     "execution_count": 7,
     "metadata": {},
     "output_type": "execute_result"
    }
   ],
   "source": [
    "weather_df.where(col('tavg').isNull()).show()\n",
    "\n",
    "# seems in most cases all important weather data columns are null\n",
    "weather_df.where(col('tavg').isNull() & col('tmin').isNull() & col('tmax').isNull() & col('wdir').isNull() & col('wspd').isNull() & col('pres').isNull()).count()\n",
    "# 7436"
   ]
  },
  {
   "cell_type": "code",
   "execution_count": 8,
   "id": "20137271",
   "metadata": {},
   "outputs": [
    {
     "data": {
      "text/plain": [
       "47096"
      ]
     },
     "execution_count": 8,
     "metadata": {},
     "output_type": "execute_result"
    }
   ],
   "source": [
    "# rows having atleast one null value\n",
    "\n",
    "weather_df.count() - weather_df.dropna(how='any').count() # 47096 \n",
    "# that's too many rows"
   ]
  },
  {
   "cell_type": "code",
   "execution_count": 9,
   "id": "79abe2a6",
   "metadata": {},
   "outputs": [
    {
     "data": {
      "text/plain": [
       "36095"
      ]
     },
     "execution_count": 9,
     "metadata": {},
     "output_type": "execute_result"
    }
   ],
   "source": [
    "# further, wdir is not important to us in our analysis\n",
    "# so drop the column wdir\n",
    "\n",
    "weather_clean1_df = weather_df.drop('wdir')\n",
    "weather_clean1_df.count() - weather_clean1_df.dropna(how='any').count() # 36000 rows with atleast one null column"
   ]
  },
  {
   "cell_type": "markdown",
   "id": "78854ac1",
   "metadata": {},
   "source": [
    "### Remove duplicates"
   ]
  },
  {
   "cell_type": "code",
   "execution_count": 10,
   "id": "5fa06eaf",
   "metadata": {},
   "outputs": [
    {
     "name": "stderr",
     "output_type": "stream",
     "text": [
      "                                                                                \r"
     ]
    },
    {
     "data": {
      "text/plain": [
       "0"
      ]
     },
     "execution_count": 10,
     "metadata": {},
     "output_type": "execute_result"
    }
   ],
   "source": [
    "weather_clean1_df.dropDuplicates().count() - weather_df.count()\n",
    "\n",
    "# we don't have any duplicates"
   ]
  },
  {
   "cell_type": "markdown",
   "id": "c2a09afb",
   "metadata": {},
   "source": [
    "### Dropping null columns of tavg, tmin, tmax and wspd\n",
    "it is not possible to fill the tavg, tmin, tmax, wspd columns with mean values because the values belong to various different countries at different dates of year"
   ]
  },
  {
   "cell_type": "code",
   "execution_count": 11,
   "id": "281bc5c0",
   "metadata": {},
   "outputs": [
    {
     "data": {
      "text/plain": [
       "24302"
      ]
     },
     "execution_count": 11,
     "metadata": {},
     "output_type": "execute_result"
    }
   ],
   "source": [
    "# since tavg, tmin, tmax, wspd are crucial to our analysis, we drop all those rows where atleast one of them is null\n",
    "\n",
    "weather_clean2_df = weather_clean1_df.dropna(how='any', subset=['tavg', 'tmin', 'tmax', 'wspd'])\n",
    "\n",
    "weather_df.count() - weather_clean2_df.count() #24302 rows removed"
   ]
  },
  {
   "cell_type": "code",
   "execution_count": 12,
   "id": "76d3edb2",
   "metadata": {},
   "outputs": [
    {
     "name": "stdout",
     "output_type": "stream",
     "text": [
      "+----+-------+----+--------+---------+----+----+----+----+-----+\n",
      "|date|country|city|Latitude|Longitude|tavg|tmin|tmax|wspd| pres|\n",
      "+----+-------+----+--------+---------+----+----+----+----+-----+\n",
      "|   0|      0|   0|       0|        0|   0|   0|   0|   0|11793|\n",
      "+----+-------+----+--------+---------+----+----+----+----+-----+\n",
      "\n"
     ]
    }
   ],
   "source": [
    "# lets see the new count of null records\n",
    "weather_clean2_df.select([F.count(F.when(col(c).isNull(), c)).alias(c) for c in weather_clean2_df.columns]).show()"
   ]
  },
  {
   "cell_type": "code",
   "execution_count": 13,
   "id": "1c7d2a14",
   "metadata": {},
   "outputs": [
    {
     "name": "stdout",
     "output_type": "stream",
     "text": [
      "+-------+------------------+\n",
      "|summary|              pres|\n",
      "+-------+------------------+\n",
      "|  count|            288552|\n",
      "|   mean|1013.2756026643319|\n",
      "| stddev| 7.159268129686839|\n",
      "|    min|             922.8|\n",
      "|    max|            1058.0|\n",
      "+-------+------------------+\n",
      "\n"
     ]
    }
   ],
   "source": [
    "# 11793 columns where pressure is null\n",
    "# atmospheric pressure at a place is almost constant, lets fill this with mean data\n",
    "\n",
    "weather_clean2_df.describe('pres').show()"
   ]
  },
  {
   "cell_type": "code",
   "execution_count": 14,
   "id": "95803849",
   "metadata": {},
   "outputs": [
    {
     "name": "stdout",
     "output_type": "stream",
     "text": [
      "+--------------------+-----------------+\n",
      "|      skewness(pres)|   kurtosis(pres)|\n",
      "+--------------------+-----------------+\n",
      "|-0.43519641065412124|4.418189473399529|\n",
      "+--------------------+-----------------+\n",
      "\n"
     ]
    }
   ],
   "source": [
    "# lets first check the skewness and kurtosis of pressure column\n",
    "\n",
    "weather_clean2_df.select(F.skewness('pres'),F.kurtosis('pres')).show()"
   ]
  },
  {
   "cell_type": "markdown",
   "id": "e7a1c8d1",
   "metadata": {},
   "source": [
    "skewness of -0.43 i.e. < 0 means that data is negatively skewed.\n",
    "\n",
    "kurtosis of 4.42 i.e. > 3 means that the data is leptokurtic i.e. there are many outliers. lets make a box plot to see the distribution of data"
   ]
  },
  {
   "cell_type": "code",
   "execution_count": 15,
   "id": "58a2568e",
   "metadata": {},
   "outputs": [
    {
     "data": {
      "text/plain": [
       "<AxesSubplot: >"
      ]
     },
     "execution_count": 15,
     "metadata": {},
     "output_type": "execute_result"
    },
    {
     "data": {
      "image/png": "[encoded data removed]",
      "text/plain": [
       "<Figure size 640x480 with 1 Axes>"
      ]
     },
     "metadata": {},
     "output_type": "display_data"
    }
   ],
   "source": [
    "weather_clean2_df.toPandas().plot.box(column=['pres'])"
   ]
  },
  {
   "cell_type": "markdown",
   "id": "13fc6cec",
   "metadata": {},
   "source": [
    "even though the data is skewed to left of the mean, we can see that there are not many outliers, so we fill null rows with mean pressure"
   ]
  },
  {
   "cell_type": "code",
   "execution_count": 16,
   "id": "0e85cb43",
   "metadata": {},
   "outputs": [],
   "source": [
    "mean_pres = weather_clean2_df.select(F.mean(weather_clean2_df['pres'])).collect()[0][0]\n",
    "mean_pres # 1013.27\n",
    "\n",
    "# fill nulls in pressure column with mean pressure\n",
    "weather_cleaned_df = weather_clean2_df.fillna(mean_pres, subset=['pres'])"
   ]
  },
  {
   "cell_type": "code",
   "execution_count": 17,
   "id": "3333b353",
   "metadata": {},
   "outputs": [
    {
     "name": "stdout",
     "output_type": "stream",
     "text": [
      "+----+-------+----+--------+---------+----+----+----+----+----+\n",
      "|date|country|city|Latitude|Longitude|tavg|tmin|tmax|wspd|pres|\n",
      "+----+-------+----+--------+---------+----+----+----+----+----+\n",
      "|   0|      0|   0|       0|        0|   0|   0|   0|   0|   0|\n",
      "+----+-------+----+--------+---------+----+----+----+----+----+\n",
      "\n"
     ]
    }
   ],
   "source": [
    "# lets see the new count of null records\n",
    "weather_cleaned_df.select([F.count(F.when(col(c).isNull(), c)).alias(c) for c in weather_clean2_df.columns]).show()"
   ]
  },
  {
   "cell_type": "markdown",
   "id": "013ff1be",
   "metadata": {},
   "source": [
    "## Fixing the date column"
   ]
  },
  {
   "cell_type": "code",
   "execution_count": 18,
   "id": "fc1cc8a1",
   "metadata": {},
   "outputs": [
    {
     "name": "stdout",
     "output_type": "stream",
     "text": [
      "+----------+\n",
      "|      date|\n",
      "+----------+\n",
      "|2018-07-21|\n",
      "|2018-07-22|\n",
      "|2018-07-23|\n",
      "|2018-07-24|\n",
      "|2018-07-25|\n",
      "|2018-07-26|\n",
      "|2018-07-27|\n",
      "|2018-07-28|\n",
      "|2018-07-29|\n",
      "|2018-07-30|\n",
      "|2018-07-31|\n",
      "|2018-08-01|\n",
      "|2018-08-02|\n",
      "|2018-08-03|\n",
      "|2018-08-04|\n",
      "|2018-08-05|\n",
      "|2018-08-06|\n",
      "|2018-08-07|\n",
      "|2018-08-08|\n",
      "|2018-08-09|\n",
      "+----------+\n",
      "only showing top 20 rows\n",
      "\n"
     ]
    }
   ],
   "source": [
    "weather_cleaned_df = weather_cleaned_df.withColumn('date', F.to_date(F.col('date'), 'dd-MM-yyyy'))\n",
    "\n",
    "weather_cleaned_df.select('date').show()"
   ]
  },
  {
   "cell_type": "code",
   "execution_count": 28,
   "id": "704b255c",
   "metadata": {},
   "outputs": [
    {
     "name": "stdout",
     "output_type": "stream",
     "text": [
      "root\n",
      " |-- date: date (nullable = true)\n",
      " |-- country: string (nullable = true)\n",
      " |-- city: string (nullable = true)\n",
      " |-- Latitude: double (nullable = true)\n",
      " |-- Longitude: double (nullable = true)\n",
      " |-- tavg: double (nullable = true)\n",
      " |-- tmin: double (nullable = true)\n",
      " |-- tmax: double (nullable = true)\n",
      " |-- wspd: double (nullable = true)\n",
      " |-- pres: double (nullable = false)\n",
      "\n"
     ]
    }
   ],
   "source": [
    "weather_cleaned_df.printSchema()"
   ]
  },
  {
   "cell_type": "markdown",
   "id": "62c5e90a",
   "metadata": {},
   "source": [
    "### final row count"
   ]
  },
  {
   "cell_type": "code",
   "execution_count": 19,
   "id": "0d8d33f9",
   "metadata": {},
   "outputs": [
    {
     "data": {
      "text/plain": [
       "300345"
      ]
     },
     "execution_count": 19,
     "metadata": {},
     "output_type": "execute_result"
    }
   ],
   "source": [
    "weather_cleaned_df.count()"
   ]
  },
  {
   "cell_type": "markdown",
   "id": "3441d80c",
   "metadata": {},
   "source": [
    "### export to csv"
   ]
  },
  {
   "cell_type": "code",
   "execution_count": 20,
   "id": "bc8c574d",
   "metadata": {},
   "outputs": [
    {
     "name": "stderr",
     "output_type": "stream",
     "text": [
      "                                                                                \r"
     ]
    }
   ],
   "source": [
    "# weather_cleaned_df is our final df, which we'll export to another csv file\n",
    "\n",
    "weather_cleaned_df.toPandas().to_csv('cleaned_data/cleaned_weather_data.csv', index=False)"
   ]
  },
  {
   "cell_type": "markdown",
   "id": "bf9763e4",
   "metadata": {},
   "source": [
    "## 2. Cleaning Continents data"
   ]
  },
  {
   "cell_type": "code",
   "execution_count": 21,
   "id": "bc8f9af9",
   "metadata": {},
   "outputs": [
    {
     "name": "stdout",
     "output_type": "stream",
     "text": [
      "+-------------+------+------+------------+-------------+---------+---------------+-----------+---------------+\n",
      "|      country|code_2|code_3|country_code|   iso_3166_2|continent|     sub_region|region_code|sub_region_code|\n",
      "+-------------+------+------+------------+-------------+---------+---------------+-----------+---------------+\n",
      "|  Afghanistan|    AF|   AFG|           4|ISO 3166-2:AF|     Asia|  Southern Asia|        142|             34|\n",
      "|�land Islands|    AX|   ALA|         248|ISO 3166-2:AX|   Europe|Northern Europe|        150|            154|\n",
      "|      Albania|    AL|   ALB|           8|ISO 3166-2:AL|   Europe|Southern Europe|        150|             39|\n",
      "+-------------+------+------+------------+-------------+---------+---------------+-----------+---------------+\n",
      "only showing top 3 rows\n",
      "\n",
      "root\n",
      " |-- country: string (nullable = true)\n",
      " |-- code_2: string (nullable = true)\n",
      " |-- code_3: string (nullable = true)\n",
      " |-- country_code: integer (nullable = true)\n",
      " |-- iso_3166_2: string (nullable = true)\n",
      " |-- continent: string (nullable = true)\n",
      " |-- sub_region: string (nullable = true)\n",
      " |-- region_code: integer (nullable = true)\n",
      " |-- sub_region_code: integer (nullable = true)\n",
      "\n"
     ]
    },
    {
     "data": {
      "text/plain": [
       "249"
      ]
     },
     "execution_count": 21,
     "metadata": {},
     "output_type": "execute_result"
    }
   ],
   "source": [
    "continents_df = spark\\\n",
    "                .read\\\n",
    "                .option('inferSchema', 'true')\\\n",
    "                .option('header', 'true')\\\n",
    "                .csv('data/country_continent.csv')\n",
    "\n",
    "continents_df.show(3)\n",
    "continents_df.printSchema()\n",
    "continents_df.count()"
   ]
  },
  {
   "cell_type": "markdown",
   "id": "c7a296ee",
   "metadata": {},
   "source": [
    "we need only country and continent columns, so we drop all other columns"
   ]
  },
  {
   "cell_type": "code",
   "execution_count": 22,
   "id": "98b3e0d6",
   "metadata": {},
   "outputs": [],
   "source": [
    "continents_clean1_df = continents_df.select('country', 'continent')"
   ]
  },
  {
   "cell_type": "code",
   "execution_count": 23,
   "id": "4b875d53",
   "metadata": {},
   "outputs": [
    {
     "name": "stdout",
     "output_type": "stream",
     "text": [
      "+-------+---------+\n",
      "|country|continent|\n",
      "+-------+---------+\n",
      "|      0|        9|\n",
      "+-------+---------+\n",
      "\n"
     ]
    }
   ],
   "source": [
    "# check for null columns\n",
    "continents_clean1_df.select([F.count(F.when(col(c).isNull(), c)).alias(c) for c in continents_clean1_df.columns]).show()\n",
    "# 9 null columns in continent"
   ]
  },
  {
   "cell_type": "code",
   "execution_count": 24,
   "id": "52455367",
   "metadata": {},
   "outputs": [
    {
     "name": "stdout",
     "output_type": "stream",
     "text": [
      "+--------------------+---------+\n",
      "|             country|continent|\n",
      "+--------------------+---------+\n",
      "|          Antarctica|     null|\n",
      "|       Bouvet Island|     null|\n",
      "|British Indian Oc...|     null|\n",
      "|    Christmas Island|     null|\n",
      "|Cocos (Keeling) I...|     null|\n",
      "|French Southern T...|     null|\n",
      "|Heard Island and ...|     null|\n",
      "|South Georgia and...|     null|\n",
      "|United States Min...|     null|\n",
      "+--------------------+---------+\n",
      "\n"
     ]
    }
   ],
   "source": [
    "continents_clean1_df.where(col('continent').isNull()).show()"
   ]
  },
  {
   "cell_type": "code",
   "execution_count": 25,
   "id": "c012d25e",
   "metadata": {},
   "outputs": [
    {
     "data": {
      "text/plain": [
       "9"
      ]
     },
     "execution_count": 25,
     "metadata": {},
     "output_type": "execute_result"
    }
   ],
   "source": [
    "# these countries are not included in our weather data list, so we can drop these\n",
    "\n",
    "continents_cleaned_df = continents_clean1_df.dropna(how='any')\n",
    "continents_df.count() - continents_cleaned_df.count() # 9"
   ]
  },
  {
   "cell_type": "markdown",
   "id": "7bdfbf10",
   "metadata": {},
   "source": [
    "### final row count"
   ]
  },
  {
   "cell_type": "code",
   "execution_count": 26,
   "id": "c6d62e5e",
   "metadata": {},
   "outputs": [
    {
     "data": {
      "text/plain": [
       "240"
      ]
     },
     "execution_count": 26,
     "metadata": {},
     "output_type": "execute_result"
    }
   ],
   "source": [
    "continents_cleaned_df.count()"
   ]
  },
  {
   "cell_type": "markdown",
   "id": "e16d2589",
   "metadata": {},
   "source": [
    "### export to csv"
   ]
  },
  {
   "cell_type": "code",
   "execution_count": 27,
   "id": "8f4d5eb7",
   "metadata": {},
   "outputs": [],
   "source": [
    "continents_cleaned_df.toPandas().to_csv('cleaned_data/cleaned_country_continent.csv', index=False)"
   ]
  }
 ],
 "metadata": {
  "kernelspec": {
   "display_name": "Python 3.10.8 64-bit",
   "language": "python",
   "name": "python3"
  },
  "language_info": {
   "codemirror_mode": {
    "name": "ipython",
    "version": 3
   },
   "file_extension": ".py",
   "mimetype": "text/x-python",
   "name": "python",
   "nbconvert_exporter": "python",
   "pygments_lexer": "ipython3",
   "version": "3.10.8"
  },
  "vscode": {
   "interpreter": {
    "hash": "e7370f93d1d0cde622a1f8e1c04877d8463912d04d973331ad4851f04de6915a"
   }
  }
 },
 "nbformat": 4,
 "nbformat_minor": 5
}
