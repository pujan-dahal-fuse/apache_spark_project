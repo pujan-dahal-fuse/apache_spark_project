{
 "cells": [
  {
   "cell_type": "markdown",
   "id": "9895ee6a",
   "metadata": {},
   "source": [
    "# all questions solutions"
   ]
  },
  {
   "cell_type": "code",
   "execution_count": 41,
   "id": "a121cf6b",
   "metadata": {},
   "outputs": [],
   "source": [
    "# load modules\n",
    "\n",
    "from pyspark.sql import SparkSession, functions as F\n",
    "from pyspark.sql.functions import col\n",
    "from pyspark.sql.window import Window\n",
    "\n",
    "spark = SparkSession.builder.appName('AllSolutionsPujan').getOrCreate()"
   ]
  },
  {
   "cell_type": "code",
   "execution_count": 3,
   "id": "6fb59432",
   "metadata": {},
   "outputs": [
    {
     "name": "stdout",
     "output_type": "stream",
     "text": [
      "+-------------------+--------+-------+---------+---------+----+----+----+----+------+\n",
      "|               date| country|   city| Latitude|Longitude|tavg|tmin|tmax|wspd|  pres|\n",
      "+-------------------+--------+-------+---------+---------+----+----+----+----+------+\n",
      "|2018-07-21 00:00:00|Abkhazia|Sukhumi|43.001525|41.023415|23.4|20.9|25.5| 9.3|1009.6|\n",
      "|2018-07-22 00:00:00|Abkhazia|Sukhumi|43.001525|41.023415|23.5|21.0|25.7| 9.4|1010.0|\n",
      "|2018-07-23 00:00:00|Abkhazia|Sukhumi|43.001525|41.023415|23.5|21.1|25.5| 8.2|1007.7|\n",
      "|2018-07-24 00:00:00|Abkhazia|Sukhumi|43.001525|41.023415|24.3|20.8|27.1| 9.3|1004.4|\n",
      "|2018-07-25 00:00:00|Abkhazia|Sukhumi|43.001525|41.023415|26.5|22.7|30.0| 9.7|1002.0|\n",
      "|2018-07-26 00:00:00|Abkhazia|Sukhumi|43.001525|41.023415|26.7|24.6|28.7| 9.8|1006.7|\n",
      "|2018-07-27 00:00:00|Abkhazia|Sukhumi|43.001525|41.023415|26.5|24.6|28.1| 8.4|1009.1|\n",
      "|2018-07-28 00:00:00|Abkhazia|Sukhumi|43.001525|41.023415|26.4|24.5|28.2| 8.6|1007.5|\n",
      "|2018-07-29 00:00:00|Abkhazia|Sukhumi|43.001525|41.023415|26.3|24.4|28.1| 9.3|1007.0|\n",
      "|2018-07-30 00:00:00|Abkhazia|Sukhumi|43.001525|41.023415|26.5|24.5|28.4| 9.3|1007.4|\n",
      "+-------------------+--------+-------+---------+---------+----+----+----+----+------+\n",
      "only showing top 10 rows\n",
      "\n",
      "root\n",
      " |-- date: timestamp (nullable = true)\n",
      " |-- country: string (nullable = true)\n",
      " |-- city: string (nullable = true)\n",
      " |-- Latitude: double (nullable = true)\n",
      " |-- Longitude: double (nullable = true)\n",
      " |-- tavg: double (nullable = true)\n",
      " |-- tmin: double (nullable = true)\n",
      " |-- tmax: double (nullable = true)\n",
      " |-- wspd: double (nullable = true)\n",
      " |-- pres: double (nullable = true)\n",
      "\n"
     ]
    },
    {
     "name": "stderr",
     "output_type": "stream",
     "text": [
      "\r",
      "[Stage 5:>                                                          (0 + 1) / 1]\r",
      "\r",
      "                                                                                \r"
     ]
    }
   ],
   "source": [
    "# load weather data\n",
    "weather_df = spark\\\n",
    "                .read\\\n",
    "                .option('inferSchema', 'true')\\\n",
    "                .option('header', 'true')\\\n",
    "                .csv('../cleaned_data/cleaned_weather_data.csv')\n",
    "\n",
    "weather_df.cache().show(10)\n",
    "weather_df.printSchema()"
   ]
  },
  {
   "cell_type": "code",
   "execution_count": 6,
   "id": "90eb77f4",
   "metadata": {},
   "outputs": [
    {
     "name": "stdout",
     "output_type": "stream",
     "text": [
      "22/11/03 10:33:33 WARN CacheManager: Asked to cache already cached data.\n",
      "+-------------------+---------+\n",
      "|            country|continent|\n",
      "+-------------------+---------+\n",
      "|        Afghanistan|     Asia|\n",
      "|      �land Islands|   Europe|\n",
      "|            Albania|   Europe|\n",
      "|            Algeria|   Africa|\n",
      "|     American Samoa|  Oceania|\n",
      "|            Andorra|   Europe|\n",
      "|             Angola|   Africa|\n",
      "|           Anguilla| Americas|\n",
      "|Antigua and Barbuda| Americas|\n",
      "|          Argentina| Americas|\n",
      "+-------------------+---------+\n",
      "only showing top 10 rows\n",
      "\n",
      "root\n",
      " |-- country: string (nullable = true)\n",
      " |-- continent: string (nullable = true)\n",
      "\n"
     ]
    }
   ],
   "source": [
    "# load continents data\n",
    "\n",
    "continents_df = spark\\\n",
    "                    .read\\\n",
    "                    .option('inferSchema', 'true')\\\n",
    "                    .option('header', 'true')\\\n",
    "                    .csv('../cleaned_data/cleaned_country_continent.csv')\n",
    "\n",
    "continents_df.cache().show(10)\n",
    "continents_df.printSchema()"
   ]
  },
  {
   "cell_type": "markdown",
   "id": "878517e5",
   "metadata": {},
   "source": [
    "## Qn. 1. Find the global average temperature each year. Is it increasing ?"
   ]
  },
  {
   "cell_type": "code",
   "execution_count": 99,
   "id": "bfd32d25",
   "metadata": {},
   "outputs": [
    {
     "name": "stdout",
     "output_type": "stream",
     "text": [
      "+----+---------------+\n",
      "|year|global_avg_temp|\n",
      "+----+---------------+\n",
      "|2018|           20.4|\n",
      "|2019|           20.9|\n",
      "|2020|           21.0|\n",
      "|2021|           20.9|\n",
      "|2022|           21.4|\n",
      "+----+---------------+\n",
      "\n"
     ]
    }
   ],
   "source": [
    "global_avg_temp_df = weather_df\\\n",
    "        .groupBy(F.year('date').cast('integer').alias('year'))\\\n",
    "        .agg(F.mean('tavg').alias('tavg'))\\\n",
    "        .select('year', F.round('tavg', 1).alias('global_avg_temp'))\\\n",
    "        .orderBy('year')\n",
    "\n",
    "global_avg_temp_df.show()"
   ]
  },
  {
   "cell_type": "code",
   "execution_count": 16,
   "id": "4a2bb24b",
   "metadata": {},
   "outputs": [
    {
     "data": {
      "text/plain": [
       "<AxesSubplot: xlabel='year', ylabel='global_avg_temp'>"
      ]
     },
     "execution_count": 16,
     "metadata": {},
     "output_type": "execute_result"
    },
    {
     "data": {
      "image/png": "[encoded data removed]",
      "text/plain": [
       "<Figure size 640x480 with 1 Axes>"
      ]
     },
     "metadata": {},
     "output_type": "display_data"
    }
   ],
   "source": [
    "global_avg_temp_df.toPandas().plot.scatter(x='year', y='global_avg_temp')"
   ]
  },
  {
   "cell_type": "markdown",
   "id": "413f9bce",
   "metadata": {},
   "source": [
    "we can see that the global average temperature is slightly increasing, however there is a downward trend in year 2021, which might be due to covid pandemic. The temperature increases slightly every year, but this doesn't give us the actual temperature variations because data on temperatures above oceans are not measured."
   ]
  },
  {
   "cell_type": "markdown",
   "id": "126c3319",
   "metadata": {},
   "source": [
    "## Qn. 2. Correlation and population covariance between wind speed and air pressure."
   ]
  },
  {
   "cell_type": "code",
   "execution_count": 19,
   "id": "85f2671a",
   "metadata": {},
   "outputs": [
    {
     "name": "stdout",
     "output_type": "stream",
     "text": [
      "+-------------------+---------------------+\n",
      "|   corr(wspd, pres)|covar_pop(wspd, pres)|\n",
      "+-------------------+---------------------+\n",
      "|-0.1128079337787976|   -5.785491862972515|\n",
      "+-------------------+---------------------+\n",
      "\n"
     ]
    }
   ],
   "source": [
    "corr_covar_df = weather_df.select(F.corr('wspd', 'pres'), F.covar_pop('wspd', 'pres'))\n",
    "\n",
    "corr_covar_df.show()"
   ]
  },
  {
   "cell_type": "markdown",
   "id": "7536e9be",
   "metadata": {},
   "source": [
    "correlation of -0.112 suggests that the wspd and pressure are slightly negatively correlated i.e. as wspd increases pressure slightly decreases and vice versa. Similarly covariance of -5.78 suggests the same."
   ]
  },
  {
   "cell_type": "markdown",
   "id": "f44c1b61",
   "metadata": {},
   "source": [
    "## Qn. 3. Max temperature for each country in the month of July each year."
   ]
  },
  {
   "cell_type": "code",
   "execution_count": 29,
   "id": "e5a58e0b",
   "metadata": {},
   "outputs": [
    {
     "name": "stdout",
     "output_type": "stream",
     "text": [
      "+----+-----+-------------+--------+\n",
      "|year|month|      country|max_temp|\n",
      "+----+-----+-------------+--------+\n",
      "|2018|    7|     Abkhazia|    30.0|\n",
      "|2019|    7|     Abkhazia|    29.9|\n",
      "|2020|    7|     Abkhazia|    29.4|\n",
      "|2021|    7|     Abkhazia|    31.0|\n",
      "|2022|    7|     Abkhazia|    27.8|\n",
      "|2018|    7|Aland Islands|    30.3|\n",
      "|2019|    7|Aland Islands|    30.1|\n",
      "|2020|    7|Aland Islands|    22.3|\n",
      "|2021|    7|Aland Islands|    28.1|\n",
      "|2022|    7|Aland Islands|    24.4|\n",
      "|2018|    7|      Albania|    35.7|\n",
      "|2019|    7|      Albania|    36.3|\n",
      "|2020|    7|      Albania|    37.4|\n",
      "|2021|    7|      Albania|    40.1|\n",
      "|2022|    7|      Albania|    38.5|\n",
      "|2018|    7|      Algeria|    35.7|\n",
      "|2019|    7|      Algeria|    41.7|\n",
      "|2020|    7|      Algeria|    36.7|\n",
      "|2021|    7|      Algeria|    38.5|\n",
      "|2022|    7|      Algeria|    36.3|\n",
      "+----+-----+-------------+--------+\n",
      "only showing top 20 rows\n",
      "\n"
     ]
    }
   ],
   "source": [
    "max_temp_july_df = weather_df\\\n",
    "                    .groupBy(F.year('date').alias('year'), F.month('date').alias('month'), 'country')\\\n",
    "                    .agg(F.max('tmax').alias('max_temp'))\\\n",
    "                    .filter('month == 7')\\\n",
    "                    .orderBy('country', 'year')\n",
    "\n",
    "max_temp_july_df.show()"
   ]
  },
  {
   "cell_type": "markdown",
   "id": "f1326161",
   "metadata": {},
   "source": [
    "## Qn. 4. Standard deviation of max temperature for each country in the month of july each year."
   ]
  },
  {
   "cell_type": "code",
   "execution_count": 98,
   "id": "f27996c3",
   "metadata": {},
   "outputs": [
    {
     "name": "stdout",
     "output_type": "stream",
     "text": [
      "+-------------------+--------------------+\n",
      "|            country|stddev_max_temp_july|\n",
      "+-------------------+--------------------+\n",
      "|           Abkhazia|                 1.2|\n",
      "|      Aland Islands|                 3.6|\n",
      "|            Albania|                 1.8|\n",
      "|            Algeria|                 2.4|\n",
      "|     American Samoa|                 0.4|\n",
      "|             Angola|                 1.2|\n",
      "|           Anguilla|                 0.9|\n",
      "|Antigua and Barbuda|                 0.4|\n",
      "|          Argentina|                 2.6|\n",
      "|              Aruba|                 0.9|\n",
      "|            Austria|                 1.3|\n",
      "|         Azerbaijan|                 2.5|\n",
      "|            Bahamas|                 0.6|\n",
      "|            Bahrain|                 1.2|\n",
      "|         Bangladesh|                 0.8|\n",
      "|           Barbados|                 0.8|\n",
      "|            Belarus|                 2.4|\n",
      "|            Belgium|                 5.1|\n",
      "|            Bermuda|                 0.6|\n",
      "|      Bouvet Island|                 0.6|\n",
      "+-------------------+--------------------+\n",
      "only showing top 20 rows\n",
      "\n"
     ]
    }
   ],
   "source": [
    "# calculate the standard deviation for each country\n",
    "stddev_max_temp_july_df = max_temp_july_df\\\n",
    "                            .groupBy('country')\\\n",
    "                            .agg(F.stddev('max_temp').alias('stddev'))\\\n",
    "                            .orderBy('country')\\\n",
    "                            .select('country',F.round('stddev', 1).alias('stddev_max_temp_july'))\n",
    "\n",
    "stddev_max_temp_july_df.show()"
   ]
  },
  {
   "cell_type": "markdown",
   "id": "4c86c8c3",
   "metadata": {},
   "source": [
    "## Qn. 5. Min temperature that each country has ever had and the date at which it happened (window function)"
   ]
  },
  {
   "cell_type": "code",
   "execution_count": 46,
   "id": "41fa4dda",
   "metadata": {},
   "outputs": [
    {
     "name": "stdout",
     "output_type": "stream",
     "text": [
      "+-------------------+--------------------+--------+\n",
      "|               date|             country|min_temp|\n",
      "+-------------------+--------------------+--------+\n",
      "|2020-02-10 00:00:00|            Abkhazia|    -4.1|\n",
      "|2019-01-08 00:00:00|             Albania|    -9.4|\n",
      "|2019-01-08 00:00:00|             Algeria|    -0.3|\n",
      "|2018-08-26 00:00:00|              Angola|    15.0|\n",
      "|2018-03-13 00:00:00|            Anguilla|    19.6|\n",
      "|2022-07-17 00:00:00|           Argentina|     1.9|\n",
      "|2018-02-28 00:00:00|             Belgium|    -8.5|\n",
      "|2021-09-03 00:00:00|British Virgin Is...|    19.6|\n",
      "|2021-01-14 00:00:00|            Cambodia|    14.1|\n",
      "|2018-12-24 00:00:00|                Chad|    10.8|\n",
      "|2021-09-12 00:00:00|             Comoros|    13.1|\n",
      "|2018-04-05 00:00:00|       Côte d'Ivoire|    11.8|\n",
      "|2022-02-05 00:00:00|            Djibouti|    17.7|\n",
      "|2021-01-24 00:00:00|            Dominica|    20.6|\n",
      "|2021-02-21 00:00:00|            Dominica|    20.6|\n",
      "|2021-03-12 00:00:00|            Dominica|    20.6|\n",
      "|2021-03-20 00:00:00|            Dominica|    20.6|\n",
      "|2021-03-21 00:00:00|            Dominica|    20.6|\n",
      "|2021-03-22 00:00:00|            Dominica|    20.6|\n",
      "|2022-03-07 00:00:00|            Dominica|    20.6|\n",
      "+-------------------+--------------------+--------+\n",
      "only showing top 20 rows\n",
      "\n"
     ]
    }
   ],
   "source": [
    "window_spec = Window.partitionBy('country').orderBy('tmin')\n",
    "\n",
    "ranked_df = weather_df.withColumn('dense_rn', F.dense_rank().over(window_spec)).filter('dense_rn == 1')\n",
    "\n",
    "min_temp_df = ranked_df.select('date', 'country', col('tmin').alias('min_temp'))\n",
    "\n",
    "min_temp_df.show()"
   ]
  },
  {
   "cell_type": "markdown",
   "id": "4f503dc6",
   "metadata": {},
   "source": [
    "## Qn. 6. Find the 5 coldest days in Canada (use min avg temp) (Window Function)"
   ]
  },
  {
   "cell_type": "code",
   "execution_count": 117,
   "id": "2dc1723f",
   "metadata": {},
   "outputs": [
    {
     "name": "stdout",
     "output_type": "stream",
     "text": [
      "+-------------------+-------+---------------+----+\n",
      "|               date|country|avg_temperature|rank|\n",
      "+-------------------+-------+---------------+----+\n",
      "|2022-01-21 00:00:00| Canada|          -24.2|   1|\n",
      "|2018-01-01 00:00:00| Canada|          -23.5|   2|\n",
      "|2022-01-22 00:00:00| Canada|          -23.5|   2|\n",
      "|2018-01-06 00:00:00| Canada|          -22.9|   3|\n",
      "|2022-01-15 00:00:00| Canada|          -22.3|   4|\n",
      "|2018-01-05 00:00:00| Canada|          -22.2|   5|\n",
      "+-------------------+-------+---------------+----+\n",
      "\n"
     ]
    }
   ],
   "source": [
    "window_spec = Window.partitionBy('country').orderBy('tavg')\n",
    "ranked_df = weather_df\\\n",
    "                .withColumn('dense_rn', F.dense_rank().over(window_spec))\\\n",
    "                .filter('dense_rn <= 5')\\\n",
    "                .filter('country == \"Canada\"')\n",
    "\n",
    "coldest_days_in_Canada_df = ranked_df.select('date', 'country', col('tavg').alias('avg_temperature'), col('dense_rn').alias('rank'))\n",
    "coldest_days_in_Canada_df.show()"
   ]
  },
  {
   "cell_type": "markdown",
   "id": "e17ff15a",
   "metadata": {},
   "source": [
    "## Qn. 7. Difference of each country’s average temperature from global average temperature for 2019."
   ]
  },
  {
   "cell_type": "code",
   "execution_count": 100,
   "id": "7f86b00d",
   "metadata": {},
   "outputs": [
    {
     "name": "stdout",
     "output_type": "stream",
     "text": [
      "+-------------------+-------------------+\n",
      "|            country|           avg_temp|\n",
      "+-------------------+-------------------+\n",
      "|           Abkhazia|  14.61452054794519|\n",
      "|      Aland Islands|  7.079670329670329|\n",
      "|            Albania|  16.56043956043955|\n",
      "|            Algeria|  19.44136986301369|\n",
      "|     American Samoa| 27.412054794520497|\n",
      "|             Angola| 25.894794520547933|\n",
      "|           Anguilla| 27.278904109589043|\n",
      "|Antigua and Barbuda| 26.718630136986313|\n",
      "|          Argentina|  17.93863013698628|\n",
      "|              Aruba|  28.00821917808217|\n",
      "|            Austria| 14.126373626373633|\n",
      "|         Azerbaijan| 15.416164383561656|\n",
      "|            Bahamas| 25.767582417582407|\n",
      "|            Bahrain| 27.899999999999974|\n",
      "|         Bangladesh| 26.225753424657544|\n",
      "|           Barbados|  27.50328767123287|\n",
      "|            Belarus|  9.316438356164383|\n",
      "|            Belgium| 11.746703296703302|\n",
      "|            Bermuda| 22.324725274725253|\n",
      "|      Bouvet Island|-0.5103641456582632|\n",
      "+-------------------+-------------------+\n",
      "only showing top 20 rows\n",
      "\n",
      "+----+-------------------+--------+---------------+----------+\n",
      "|year|            country|avg_temp|global_avg_temp|difference|\n",
      "+----+-------------------+--------+---------------+----------+\n",
      "|2019|           Abkhazia|    14.6|           20.9|      -6.3|\n",
      "|2019|      Aland Islands|     7.1|           20.9|     -13.8|\n",
      "|2019|            Albania|    16.6|           20.9|      -4.3|\n",
      "|2019|            Algeria|    19.4|           20.9|      -1.5|\n",
      "|2019|     American Samoa|    27.4|           20.9|       6.5|\n",
      "|2019|             Angola|    25.9|           20.9|       5.0|\n",
      "|2019|           Anguilla|    27.3|           20.9|       6.4|\n",
      "|2019|Antigua and Barbuda|    26.7|           20.9|       5.8|\n",
      "|2019|          Argentina|    17.9|           20.9|      -3.0|\n",
      "|2019|              Aruba|    28.0|           20.9|       7.1|\n",
      "|2019|            Austria|    14.1|           20.9|      -6.8|\n",
      "|2019|         Azerbaijan|    15.4|           20.9|      -5.5|\n",
      "|2019|            Bahamas|    25.8|           20.9|       4.9|\n",
      "|2019|            Bahrain|    27.9|           20.9|       7.0|\n",
      "|2019|         Bangladesh|    26.2|           20.9|       5.3|\n",
      "|2019|           Barbados|    27.5|           20.9|       6.6|\n",
      "|2019|            Belarus|     9.3|           20.9|     -11.6|\n",
      "|2019|            Belgium|    11.7|           20.9|      -9.2|\n",
      "|2019|            Bermuda|    22.3|           20.9|       1.4|\n",
      "|2019|      Bouvet Island|    -0.5|           20.9|     -21.4|\n",
      "+----+-------------------+--------+---------------+----------+\n",
      "only showing top 20 rows\n",
      "\n"
     ]
    }
   ],
   "source": [
    "avg_temp_df = weather_df\\\n",
    "                .filter(F.year('date') == 2019)\\\n",
    "                .groupBy('country')\\\n",
    "                .agg(F.mean('tavg').alias('avg_temp'))\\\n",
    "                .orderBy('country')\n",
    "\n",
    "avg_temp_df.show()\n",
    "\n",
    "global_avg_temp = round(weather_df.select(F.mean('tavg')).collect()[0][0], 1)\n",
    "global_avg_temp # 20.9\n",
    "\n",
    "diff_global_avg_temp_df = avg_temp_df\\\n",
    "                            .withColumn('year', F.lit(2019))\\\n",
    "                            .withColumn('avg_temp', F.round('avg_temp', 1))\\\n",
    "                            .withColumn('global_avg_temp', F.lit(global_avg_temp))\\\n",
    "                            .withColumn('difference', F.round(col('avg_temp') - col('global_avg_temp'), 1))\n",
    "\n",
    "diff_global_avg_temp_df = diff_global_avg_temp_df.select('year', 'country', 'avg_temp', 'global_avg_temp', 'difference')\n",
    "\n",
    "diff_global_avg_temp_df.show()"
   ]
  },
  {
   "cell_type": "markdown",
   "id": "031e52a1",
   "metadata": {},
   "source": [
    "## Qn. 8. Rolling average of temperature in Belgium for the month of July 2019 (Window Function)"
   ]
  },
  {
   "cell_type": "code",
   "execution_count": 93,
   "id": "146fbdf9",
   "metadata": {},
   "outputs": [
    {
     "name": "stdout",
     "output_type": "stream",
     "text": [
      "+-------------------+-------+----+-----------+\n",
      "|               date|country|tavg|rolling_avg|\n",
      "+-------------------+-------+----+-----------+\n",
      "|2019-07-01 00:00:00|Belgium|18.6|       18.6|\n",
      "|2019-07-02 00:00:00|Belgium|18.0|       18.3|\n",
      "|2019-07-03 00:00:00|Belgium|17.2|       17.9|\n",
      "|2019-07-04 00:00:00|Belgium|17.7|       17.9|\n",
      "|2019-07-05 00:00:00|Belgium|19.7|       18.2|\n",
      "|2019-07-06 00:00:00|Belgium|19.9|       18.5|\n",
      "|2019-07-07 00:00:00|Belgium|16.9|       18.3|\n",
      "|2019-07-08 00:00:00|Belgium|15.0|       17.9|\n",
      "|2019-07-09 00:00:00|Belgium|16.3|       17.7|\n",
      "|2019-07-10 00:00:00|Belgium|18.4|       17.8|\n",
      "|2019-07-11 00:00:00|Belgium|20.3|       18.0|\n",
      "|2019-07-12 00:00:00|Belgium|18.0|       18.0|\n",
      "|2019-07-13 00:00:00|Belgium|17.4|       18.0|\n",
      "|2019-07-14 00:00:00|Belgium|16.1|       17.8|\n",
      "|2019-07-15 00:00:00|Belgium|15.0|       17.6|\n",
      "|2019-07-16 00:00:00|Belgium|16.5|       17.6|\n",
      "|2019-07-17 00:00:00|Belgium|18.6|       17.6|\n",
      "|2019-07-18 00:00:00|Belgium|19.3|       17.7|\n",
      "|2019-07-19 00:00:00|Belgium|20.3|       17.9|\n",
      "|2019-07-20 00:00:00|Belgium|21.0|       18.0|\n",
      "+-------------------+-------+----+-----------+\n",
      "only showing top 20 rows\n",
      "\n"
     ]
    }
   ],
   "source": [
    "window_spec = Window.partitionBy('country').orderBy('date').rowsBetween(Window.unboundedPreceding, Window.currentRow)\n",
    "\n",
    "belgium_july_2019_df = weather_df\\\n",
    "                        .filter(F.year('date') == 2019)\\\n",
    "                        .filter(F.month('date') == 7)\\\n",
    "                        .filter('country == \"Belgium\"')\\\n",
    "                        .withColumn('rolling_avg', F.mean('tavg').over(window_spec))\\\n",
    "                        .select('date', 'country', 'tavg', F.round('rolling_avg', 1).alias('rolling_avg'))\n",
    "\n",
    "belgium_july_2019_df.show()"
   ]
  },
  {
   "cell_type": "markdown",
   "id": "8df9d1d2",
   "metadata": {},
   "source": [
    "## Qn. 9. Find hottest and coldest day of UK for each month in 2020 (use tmin, tmax)"
   ]
  },
  {
   "cell_type": "code",
   "execution_count": 144,
   "id": "ae100f14",
   "metadata": {},
   "outputs": [
    {
     "name": "stdout",
     "output_type": "stream",
     "text": [
      "+----------+--------------+----+----+-------------+\n",
      "|      date|       country|tmin|tmax|is_min_or_max|\n",
      "+----------+--------------+----+----+-------------+\n",
      "|2020-01-14|United Kingdom| 6.1|11.7|          max|\n",
      "|2020-01-20|United Kingdom|-2.0| 6.0|          min|\n",
      "|2020-02-16|United Kingdom| 4.9|12.3|          max|\n",
      "|2020-02-28|United Kingdom| 0.3| 9.8|          min|\n",
      "|2020-03-10|United Kingdom| 9.1|14.1|          max|\n",
      "|2020-03-30|United Kingdom|-0.2| 6.3|          min|\n",
      "|2020-04-11|United Kingdom| 9.0|22.5|          max|\n",
      "|2020-04-01|United Kingdom|-0.9| 8.0|          min|\n",
      "|2020-05-21|United Kingdom|13.1|24.6|          max|\n",
      "|2020-05-12|United Kingdom| 1.7|11.8|          min|\n",
      "|2020-05-14|United Kingdom| 1.7|10.6|          min|\n",
      "|2020-06-25|United Kingdom|16.3|29.6|          max|\n",
      "|2020-06-06|United Kingdom| 5.0|11.9|          min|\n",
      "|2020-07-31|United Kingdom|15.5|31.7|          max|\n",
      "|2020-07-11|United Kingdom| 7.7|17.9|          min|\n",
      "|2020-08-07|United Kingdom|15.5|32.8|          max|\n",
      "|2020-08-31|United Kingdom| 8.2|15.8|          min|\n",
      "|2020-09-15|United Kingdom|15.4|27.3|          max|\n",
      "|2020-09-26|United Kingdom| 5.5| 9.9|          min|\n",
      "|2020-10-20|United Kingdom|10.8|16.0|          max|\n",
      "+----------+--------------+----+----+-------------+\n",
      "only showing top 20 rows\n",
      "\n"
     ]
    }
   ],
   "source": [
    "window_spec1 = Window.partitionBy('country', F.year('date'), F.month('date')).orderBy('tmin')\n",
    "window_spec2 = Window.partitionBy('country', F.year('date'), F.month('date')).orderBy(F.desc('tmax'))\n",
    "\n",
    "weather_df\\\n",
    "        .filter('country == \"United Kingdom\"')\\\n",
    "        .filter(F.year('date') == 2020)\\\n",
    "        .withColumn('min_rank', F.dense_rank().over(window_spec1))\\\n",
    "        .withColumn('max_rank', F.dense_rank().over(window_spec2))\\\n",
    "        .withColumn('is_min_or_max', F.when(col('min_rank') == 1, F.lit('min')).when(col('max_rank') == 1, F.lit('max')))\\\n",
    "        .filter((col('min_rank') == 1) | (col('max_rank') == 1))\\\n",
    "        .select(F.to_date('date').alias('date'), 'country', 'tmin', 'tmax', 'is_min_or_max')\\\n",
    "        .show()"
   ]
  }
 ],
 "metadata": {
  "kernelspec": {
   "display_name": "Python 3 (ipykernel)",
   "language": "python",
   "name": "python3"
  },
  "language_info": {
   "codemirror_mode": {
    "name": "ipython",
    "version": 3
   },
   "file_extension": ".py",
   "mimetype": "text/x-python",
   "name": "python",
   "nbconvert_exporter": "python",
   "pygments_lexer": "ipython3",
   "version": "3.10.8"
  }
 },
 "nbformat": 4,
 "nbformat_minor": 5
}
